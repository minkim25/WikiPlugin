{
 "cells": [
  {
   "cell_type": "code",
   "execution_count": 69,
   "metadata": {},
   "outputs": [],
   "source": [
    "import pandas as pd\n",
    "import nltk\n",
    "from nltk import word_tokenize\n",
    "from gensim import models\n",
    "from gensim.corpora import Dictionary, MmCorpus"
   ]
  },
  {
   "cell_type": "code",
   "execution_count": 71,
   "metadata": {},
   "outputs": [
    {
     "data": {
      "text/html": [
       "<div>\n",
       "<style scoped>\n",
       "    .dataframe tbody tr th:only-of-type {\n",
       "        vertical-align: middle;\n",
       "    }\n",
       "\n",
       "    .dataframe tbody tr th {\n",
       "        vertical-align: top;\n",
       "    }\n",
       "\n",
       "    .dataframe thead th {\n",
       "        text-align: right;\n",
       "    }\n",
       "</style>\n",
       "<table border=\"1\" class=\"dataframe\">\n",
       "  <thead>\n",
       "    <tr style=\"text-align: right;\">\n",
       "      <th></th>\n",
       "      <th>sentences</th>\n",
       "      <th>idx</th>\n",
       "    </tr>\n",
       "  </thead>\n",
       "  <tbody>\n",
       "    <tr>\n",
       "      <th>0</th>\n",
       "      <td>'''Anarchism''' is an     and   that r...</td>\n",
       "      <td>0</td>\n",
       "    </tr>\n",
       "    <tr>\n",
       "      <th>1</th>\n",
       "      <td>These institutions are often described as  , a...</td>\n",
       "      <td>1</td>\n",
       "    </tr>\n",
       "    <tr>\n",
       "      <th>2</th>\n",
       "      <td>Anarchism's central disagreement with other id...</td>\n",
       "      <td>2</td>\n",
       "    </tr>\n",
       "    <tr>\n",
       "      <th>3</th>\n",
       "      <td>Anarchism is usually placed on the   of the  ,...</td>\n",
       "      <td>3</td>\n",
       "    </tr>\n",
       "    <tr>\n",
       "      <th>4</th>\n",
       "      <td>As anarchism does not offer a fixed body of do...</td>\n",
       "      <td>4</td>\n",
       "    </tr>\n",
       "    <tr>\n",
       "      <th>...</th>\n",
       "      <td>...</td>\n",
       "      <td>...</td>\n",
       "    </tr>\n",
       "    <tr>\n",
       "      <th>268</th>\n",
       "      <td>It also states that \"some sort of 'court' syst...</td>\n",
       "      <td>268</td>\n",
       "    </tr>\n",
       "    <tr>\n",
       "      <th>269</th>\n",
       "      <td>=== Industrial civilisation === In his essay '...</td>\n",
       "      <td>269</td>\n",
       "    </tr>\n",
       "    <tr>\n",
       "      <th>270</th>\n",
       "      <td>=== Tacit authoritarianism === The anarchist t...</td>\n",
       "      <td>270</td>\n",
       "    </tr>\n",
       "    <tr>\n",
       "      <th>271</th>\n",
       "      <td>== List of anarchist societies ==   *   (Fejuv...</td>\n",
       "      <td>271</td>\n",
       "    </tr>\n",
       "    <tr>\n",
       "      <th>272</th>\n",
       "      <td>is an online research center on the history an...</td>\n",
       "      <td>272</td>\n",
       "    </tr>\n",
       "  </tbody>\n",
       "</table>\n",
       "<p>273 rows × 2 columns</p>\n",
       "</div>"
      ],
      "text/plain": [
       "                                             sentences  idx\n",
       "0            '''Anarchism''' is an     and   that r...    0\n",
       "1    These institutions are often described as  , a...    1\n",
       "2    Anarchism's central disagreement with other id...    2\n",
       "3    Anarchism is usually placed on the   of the  ,...    3\n",
       "4    As anarchism does not offer a fixed body of do...    4\n",
       "..                                                 ...  ...\n",
       "268  It also states that \"some sort of 'court' syst...  268\n",
       "269  === Industrial civilisation === In his essay '...  269\n",
       "270  === Tacit authoritarianism === The anarchist t...  270\n",
       "271  == List of anarchist societies ==   *   (Fejuv...  271\n",
       "272  is an online research center on the history an...  272\n",
       "\n",
       "[273 rows x 2 columns]"
      ]
     },
     "execution_count": 71,
     "metadata": {},
     "output_type": "execute_result"
    }
   ],
   "source": [
    "import ast\n",
    "text_file = open(\"anarchism_sentences.txt\", \"r\")\n",
    "df = pd.DataFrame(ast.literal_eval(text_file.read()), columns=['sentences'])\n",
    "df['idx'] = df.index\n",
    "df"
   ]
  },
  {
   "cell_type": "code",
   "execution_count": 72,
   "metadata": {},
   "outputs": [
    {
     "data": {
      "text/html": [
       "<div>\n",
       "<style scoped>\n",
       "    .dataframe tbody tr th:only-of-type {\n",
       "        vertical-align: middle;\n",
       "    }\n",
       "\n",
       "    .dataframe tbody tr th {\n",
       "        vertical-align: top;\n",
       "    }\n",
       "\n",
       "    .dataframe thead th {\n",
       "        text-align: right;\n",
       "    }\n",
       "</style>\n",
       "<table border=\"1\" class=\"dataframe\">\n",
       "  <thead>\n",
       "    <tr style=\"text-align: right;\">\n",
       "      <th></th>\n",
       "      <th>sentences</th>\n",
       "      <th>idx</th>\n",
       "      <th>tokens</th>\n",
       "    </tr>\n",
       "  </thead>\n",
       "  <tbody>\n",
       "    <tr>\n",
       "      <th>0</th>\n",
       "      <td>'''Anarchism''' is an     and   that r...</td>\n",
       "      <td>0</td>\n",
       "      <td>[``, 'Anarchism, '', ', is, an, and, that, rej...</td>\n",
       "    </tr>\n",
       "    <tr>\n",
       "      <th>1</th>\n",
       "      <td>These institutions are often described as  , a...</td>\n",
       "      <td>1</td>\n",
       "      <td>[These, institutions, are, often, described, a...</td>\n",
       "    </tr>\n",
       "    <tr>\n",
       "      <th>2</th>\n",
       "      <td>Anarchism's central disagreement with other id...</td>\n",
       "      <td>2</td>\n",
       "      <td>[Anarchism, 's, central, disagreement, with, o...</td>\n",
       "    </tr>\n",
       "    <tr>\n",
       "      <th>3</th>\n",
       "      <td>Anarchism is usually placed on the   of the  ,...</td>\n",
       "      <td>3</td>\n",
       "      <td>[Anarchism, is, usually, placed, on, the, of, ...</td>\n",
       "    </tr>\n",
       "    <tr>\n",
       "      <th>4</th>\n",
       "      <td>As anarchism does not offer a fixed body of do...</td>\n",
       "      <td>4</td>\n",
       "      <td>[As, anarchism, does, not, offer, a, fixed, bo...</td>\n",
       "    </tr>\n",
       "    <tr>\n",
       "      <th>...</th>\n",
       "      <td>...</td>\n",
       "      <td>...</td>\n",
       "      <td>...</td>\n",
       "    </tr>\n",
       "    <tr>\n",
       "      <th>268</th>\n",
       "      <td>It also states that \"some sort of 'court' syst...</td>\n",
       "      <td>268</td>\n",
       "      <td>[It, also, states, that, ``, some, sort, of, '...</td>\n",
       "    </tr>\n",
       "    <tr>\n",
       "      <th>269</th>\n",
       "      <td>=== Industrial civilisation === In his essay '...</td>\n",
       "      <td>269</td>\n",
       "      <td>[===, Industrial, civilisation, ===, In, his, ...</td>\n",
       "    </tr>\n",
       "    <tr>\n",
       "      <th>270</th>\n",
       "      <td>=== Tacit authoritarianism === The anarchist t...</td>\n",
       "      <td>270</td>\n",
       "      <td>[===, Tacit, authoritarianism, ===, The, anarc...</td>\n",
       "    </tr>\n",
       "    <tr>\n",
       "      <th>271</th>\n",
       "      <td>== List of anarchist societies ==   *   (Fejuv...</td>\n",
       "      <td>271</td>\n",
       "      <td>[==, List, of, anarchist, societies, ==, *, (,...</td>\n",
       "    </tr>\n",
       "    <tr>\n",
       "      <th>272</th>\n",
       "      <td>is an online research center on the history an...</td>\n",
       "      <td>272</td>\n",
       "      <td>[is, an, online, research, center, on, the, hi...</td>\n",
       "    </tr>\n",
       "  </tbody>\n",
       "</table>\n",
       "<p>273 rows × 3 columns</p>\n",
       "</div>"
      ],
      "text/plain": [
       "                                             sentences  idx  \\\n",
       "0            '''Anarchism''' is an     and   that r...    0   \n",
       "1    These institutions are often described as  , a...    1   \n",
       "2    Anarchism's central disagreement with other id...    2   \n",
       "3    Anarchism is usually placed on the   of the  ,...    3   \n",
       "4    As anarchism does not offer a fixed body of do...    4   \n",
       "..                                                 ...  ...   \n",
       "268  It also states that \"some sort of 'court' syst...  268   \n",
       "269  === Industrial civilisation === In his essay '...  269   \n",
       "270  === Tacit authoritarianism === The anarchist t...  270   \n",
       "271  == List of anarchist societies ==   *   (Fejuv...  271   \n",
       "272  is an online research center on the history an...  272   \n",
       "\n",
       "                                                tokens  \n",
       "0    [``, 'Anarchism, '', ', is, an, and, that, rej...  \n",
       "1    [These, institutions, are, often, described, a...  \n",
       "2    [Anarchism, 's, central, disagreement, with, o...  \n",
       "3    [Anarchism, is, usually, placed, on, the, of, ...  \n",
       "4    [As, anarchism, does, not, offer, a, fixed, bo...  \n",
       "..                                                 ...  \n",
       "268  [It, also, states, that, ``, some, sort, of, '...  \n",
       "269  [===, Industrial, civilisation, ===, In, his, ...  \n",
       "270  [===, Tacit, authoritarianism, ===, The, anarc...  \n",
       "271  [==, List, of, anarchist, societies, ==, *, (,...  \n",
       "272  [is, an, online, research, center, on, the, hi...  \n",
       "\n",
       "[273 rows x 3 columns]"
      ]
     },
     "execution_count": 72,
     "metadata": {},
     "output_type": "execute_result"
    }
   ],
   "source": [
    "df['tokens'] = df['sentences'].apply(word_tokenize)\n",
    "df"
   ]
  },
  {
   "cell_type": "code",
   "execution_count": 73,
   "metadata": {},
   "outputs": [],
   "source": [
    "def nltk_stopwords():\n",
    "    return set(nltk.corpus.stopwords.words('english'))\n",
    "\n",
    "def prep_corpus(docs, additional_stopwords=set(), no_below=5, no_above=0.5):\n",
    "  print('Building dictionary...')\n",
    "  dictionary = Dictionary(docs)\n",
    "  stopwords = nltk_stopwords().union(additional_stopwords)\n",
    "  stopword_ids = map(dictionary.token2id.get, stopwords)\n",
    "  dictionary.filter_tokens(stopword_ids)\n",
    "  dictionary.compactify()\n",
    "  dictionary.filter_extremes(no_below=no_below, no_above=no_above, keep_n=None)\n",
    "  dictionary.compactify()\n",
    "\n",
    "  print('Building corpus...')\n",
    "  corpus = [dictionary.doc2bow(doc) for doc in docs]\n",
    "\n",
    "  return dictionary, corpus"
   ]
  },
  {
   "cell_type": "code",
   "execution_count": 74,
   "metadata": {},
   "outputs": [
    {
     "name": "stdout",
     "output_type": "stream",
     "text": [
      "Building dictionary...\n",
      "Building corpus...\n"
     ]
    }
   ],
   "source": [
    "dictionary, corpus = prep_corpus(df['tokens'])"
   ]
  },
  {
   "cell_type": "code",
   "execution_count": 75,
   "metadata": {},
   "outputs": [],
   "source": [
    "MmCorpus.serialize('wiki_articles.mm', corpus)\n",
    "dictionary.save('wiki_articles.dict')"
   ]
  },
  {
   "cell_type": "code",
   "execution_count": 78,
   "metadata": {},
   "outputs": [
    {
     "name": "stdout",
     "output_type": "stream",
     "text": [
      "CPU times: user 5.37 s, sys: 50.7 ms, total: 5.42 s\n",
      "Wall time: 5.39 s\n"
     ]
    }
   ],
   "source": [
    "%%time\n",
    "lda = models.ldamodel.LdaModel(corpus=corpus, id2word=dictionary, num_topics=3, passes=50)\n",
    "                                      \n",
    "lda.save('anarchism.model')"
   ]
  },
  {
   "cell_type": "code",
   "execution_count": 79,
   "metadata": {},
   "outputs": [
    {
     "data": {
      "text/plain": [
       "[(0,\n",
       "  [('anarchism', 0.08977785),\n",
       "   ('anarchist', 0.056576528),\n",
       "   ('anarchists', 0.054472953),\n",
       "   ('===', 0.05154044),\n",
       "   ('==', 0.040628247),\n",
       "   (')', 0.039753832),\n",
       "   ('(', 0.037455518),\n",
       "   ('In', 0.029284198),\n",
       "   ('within', 0.027041629),\n",
       "   ('thought', 0.020607496)]),\n",
       " (1,\n",
       "  [('``', 0.14375609),\n",
       "   (\"''\", 0.0865471),\n",
       "   ('(', 0.045218855),\n",
       "   (')', 0.042639136),\n",
       "   ('based', 0.031342953),\n",
       "   ('====', 0.029287579),\n",
       "   ('state', 0.02899939),\n",
       "   ('also', 0.02685136),\n",
       "   ('society', 0.025332574),\n",
       "   ('anarchism', 0.025321981)]),\n",
       " (2,\n",
       "  [('The', 0.059738137),\n",
       "   ('anarchist', 0.05948165),\n",
       "   (\"'s\", 0.053630676),\n",
       "   ('state', 0.041375745),\n",
       "   ('social', 0.034264117),\n",
       "   ('workers', 0.032887902),\n",
       "   ('many', 0.032784242),\n",
       "   ('movement', 0.028750008),\n",
       "   ('anarchism', 0.027595628),\n",
       "   ('violence', 0.026789036)])]"
      ]
     },
     "execution_count": 79,
     "metadata": {},
     "output_type": "execute_result"
    }
   ],
   "source": [
    "lda.show_topics(formatted=False)"
   ]
  },
  {
   "cell_type": "code",
   "execution_count": null,
   "metadata": {},
   "outputs": [],
   "source": []
  }
 ],
 "metadata": {
  "kernelspec": {
   "display_name": "Python 3",
   "language": "python",
   "name": "python3"
  },
  "language_info": {
   "codemirror_mode": {
    "name": "ipython",
    "version": 3
   },
   "file_extension": ".py",
   "mimetype": "text/x-python",
   "name": "python",
   "nbconvert_exporter": "python",
   "pygments_lexer": "ipython3",
   "version": "3.7.0"
  }
 },
 "nbformat": 4,
 "nbformat_minor": 4
}
