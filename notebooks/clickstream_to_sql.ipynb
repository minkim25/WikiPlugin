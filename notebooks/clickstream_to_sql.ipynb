{
 "cells": [
  {
   "cell_type": "code",
   "execution_count": 1,
   "metadata": {},
   "outputs": [
    {
     "name": "stderr",
     "output_type": "stream",
     "text": [
      "/Users/adrienawong/.pyenv/versions/3.7.0/lib/python3.7/site-packages/pandas/compat/__init__.py:85: UserWarning: Could not import the lzma module. Your installed Python is incomplete. Attempting to use lzma compression will result in a RuntimeError.\n",
      "  warnings.warn(msg)\n",
      "/Users/adrienawong/.pyenv/versions/3.7.0/lib/python3.7/site-packages/pandas/compat/__init__.py:85: UserWarning: Could not import the lzma module. Your installed Python is incomplete. Attempting to use lzma compression will result in a RuntimeError.\n",
      "  warnings.warn(msg)\n"
     ]
    }
   ],
   "source": [
    "import pandas as pd\n",
    "import re"
   ]
  },
  {
   "cell_type": "code",
   "execution_count": 2,
   "metadata": {},
   "outputs": [],
   "source": [
    "file = 'clickstream-enwiki-2020-01.tsv'\n",
    "folder = '../Datasets/'\n",
    "path = folder+file"
   ]
  },
  {
   "cell_type": "code",
   "execution_count": 3,
   "metadata": {},
   "outputs": [],
   "source": [
    "df = pd.read_csv(path, delimiter='\\t', \n",
    "                       encoding='utf-8', names=['referer', 'resource', 'path', 'count'])"
   ]
  },
  {
   "cell_type": "code",
   "execution_count": 4,
   "metadata": {},
   "outputs": [
    {
     "data": {
      "text/html": [
       "<div>\n",
       "<style scoped>\n",
       "    .dataframe tbody tr th:only-of-type {\n",
       "        vertical-align: middle;\n",
       "    }\n",
       "\n",
       "    .dataframe tbody tr th {\n",
       "        vertical-align: top;\n",
       "    }\n",
       "\n",
       "    .dataframe thead th {\n",
       "        text-align: right;\n",
       "    }\n",
       "</style>\n",
       "<table border=\"1\" class=\"dataframe\">\n",
       "  <thead>\n",
       "    <tr style=\"text-align: right;\">\n",
       "      <th></th>\n",
       "      <th>referer</th>\n",
       "      <th>resource</th>\n",
       "      <th>path</th>\n",
       "      <th>count</th>\n",
       "    </tr>\n",
       "  </thead>\n",
       "  <tbody>\n",
       "    <tr>\n",
       "      <th>0</th>\n",
       "      <td>Eddie_Albert</td>\n",
       "      <td>The_Dude_Goes_West</td>\n",
       "      <td>link</td>\n",
       "      <td>17</td>\n",
       "    </tr>\n",
       "    <tr>\n",
       "      <th>1</th>\n",
       "      <td>other-empty</td>\n",
       "      <td>The_Dude_Goes_West</td>\n",
       "      <td>external</td>\n",
       "      <td>112</td>\n",
       "    </tr>\n",
       "    <tr>\n",
       "      <th>2</th>\n",
       "      <td>Gale_Storm</td>\n",
       "      <td>The_Dude_Goes_West</td>\n",
       "      <td>link</td>\n",
       "      <td>15</td>\n",
       "    </tr>\n",
       "    <tr>\n",
       "      <th>3</th>\n",
       "      <td>other-external</td>\n",
       "      <td>Gianluca_Scamacca</td>\n",
       "      <td>external</td>\n",
       "      <td>18</td>\n",
       "    </tr>\n",
       "    <tr>\n",
       "      <th>4</th>\n",
       "      <td>other-internal</td>\n",
       "      <td>Gianluca_Scamacca</td>\n",
       "      <td>external</td>\n",
       "      <td>111</td>\n",
       "    </tr>\n",
       "    <tr>\n",
       "      <th>...</th>\n",
       "      <td>...</td>\n",
       "      <td>...</td>\n",
       "      <td>...</td>\n",
       "      <td>...</td>\n",
       "    </tr>\n",
       "    <tr>\n",
       "      <th>33033625</th>\n",
       "      <td>Government_of_the_Czech_Republic</td>\n",
       "      <td>Alena_Schillerová</td>\n",
       "      <td>link</td>\n",
       "      <td>20</td>\n",
       "    </tr>\n",
       "    <tr>\n",
       "      <th>33033626</th>\n",
       "      <td>Himmat_(app)</td>\n",
       "      <td>Nirbhaya_(app)</td>\n",
       "      <td>link</td>\n",
       "      <td>12</td>\n",
       "    </tr>\n",
       "    <tr>\n",
       "      <th>33033627</th>\n",
       "      <td>other-search</td>\n",
       "      <td>Nirbhaya_(app)</td>\n",
       "      <td>external</td>\n",
       "      <td>195</td>\n",
       "    </tr>\n",
       "    <tr>\n",
       "      <th>33033628</th>\n",
       "      <td>other-empty</td>\n",
       "      <td>Nirbhaya_(app)</td>\n",
       "      <td>external</td>\n",
       "      <td>423</td>\n",
       "    </tr>\n",
       "    <tr>\n",
       "      <th>33033629</th>\n",
       "      <td>other-empty</td>\n",
       "      <td>Mauro_Martini_Raccasi</td>\n",
       "      <td>external</td>\n",
       "      <td>26</td>\n",
       "    </tr>\n",
       "  </tbody>\n",
       "</table>\n",
       "<p>33033630 rows × 4 columns</p>\n",
       "</div>"
      ],
      "text/plain": [
       "                                   referer               resource      path  \\\n",
       "0                             Eddie_Albert     The_Dude_Goes_West      link   \n",
       "1                              other-empty     The_Dude_Goes_West  external   \n",
       "2                               Gale_Storm     The_Dude_Goes_West      link   \n",
       "3                           other-external      Gianluca_Scamacca  external   \n",
       "4                           other-internal      Gianluca_Scamacca  external   \n",
       "...                                    ...                    ...       ...   \n",
       "33033625  Government_of_the_Czech_Republic      Alena_Schillerová      link   \n",
       "33033626                      Himmat_(app)         Nirbhaya_(app)      link   \n",
       "33033627                      other-search         Nirbhaya_(app)  external   \n",
       "33033628                       other-empty         Nirbhaya_(app)  external   \n",
       "33033629                       other-empty  Mauro_Martini_Raccasi  external   \n",
       "\n",
       "          count  \n",
       "0            17  \n",
       "1           112  \n",
       "2            15  \n",
       "3            18  \n",
       "4           111  \n",
       "...         ...  \n",
       "33033625     20  \n",
       "33033626     12  \n",
       "33033627    195  \n",
       "33033628    423  \n",
       "33033629     26  \n",
       "\n",
       "[33033630 rows x 4 columns]"
      ]
     },
     "execution_count": 4,
     "metadata": {},
     "output_type": "execute_result"
    }
   ],
   "source": [
    "df"
   ]
  },
  {
   "cell_type": "code",
   "execution_count": 5,
   "metadata": {},
   "outputs": [],
   "source": [
    "# get all external link click count for resource\n",
    "df_external_count = df.groupby(['resource', 'path'])['count'].sum()\n",
    "df_external_count = df_external_count.reset_index()\n",
    "df_external_count = df_external_count.loc[df_external_count['path'] == 'external']\n",
    "df_external_count['referer'] = 'other-external'"
   ]
  },
  {
   "cell_type": "code",
   "execution_count": 6,
   "metadata": {},
   "outputs": [],
   "source": [
    "# get all internal link click count for resource\n",
    "df_internal = df.loc[df['path'] == 'link']\n",
    "df_internal = df_internal.dropna()"
   ]
  },
  {
   "cell_type": "code",
   "execution_count": 7,
   "metadata": {},
   "outputs": [
    {
     "name": "stderr",
     "output_type": "stream",
     "text": [
      "/Users/adrienawong/.pyenv/versions/3.7.0/lib/python3.7/site-packages/ipykernel_launcher.py:2: FutureWarning: Sorting because non-concatenation axis is not aligned. A future version\n",
      "of pandas will change to not sort by default.\n",
      "\n",
      "To accept the future behavior, pass 'sort=False'.\n",
      "\n",
      "To retain the current behavior and silence the warning, pass 'sort=True'.\n",
      "\n",
      "  \n"
     ]
    }
   ],
   "source": [
    "# combine them together\n",
    "df_combined = pd.concat([df_internal, df_external_count], axis=0)\n",
    "df_combined = df_combined.sort_values(by=['resource', 'path', 'count']).reset_index(drop=True)"
   ]
  },
  {
   "cell_type": "code",
   "execution_count": 8,
   "metadata": {},
   "outputs": [],
   "source": [
    "reg = re.compile(r'[^a-zA-Z0-9\\-\\_.]')"
   ]
  },
  {
   "cell_type": "code",
   "execution_count": 9,
   "metadata": {},
   "outputs": [],
   "source": [
    "def preprocess(doc):\n",
    "    rs = ''\n",
    "    if(reg.search(doc) == None): \n",
    "        rs = doc\n",
    "    return rs"
   ]
  },
  {
   "cell_type": "code",
   "execution_count": 10,
   "metadata": {},
   "outputs": [],
   "source": [
    "# get english alphabets, numbers, -, and _ only\n",
    "df_combined['resource'] = df_combined['resource'].apply(preprocess)\n",
    "df_result = df_combined[df_combined['resource'].map(len) > 0]"
   ]
  },
  {
   "cell_type": "code",
   "execution_count": 11,
   "metadata": {},
   "outputs": [
    {
     "name": "stderr",
     "output_type": "stream",
     "text": [
      "/Users/adrienawong/.pyenv/versions/3.7.0/lib/python3.7/site-packages/ipykernel_launcher.py:3: SettingWithCopyWarning: \n",
      "A value is trying to be set on a copy of a slice from a DataFrame.\n",
      "Try using .loc[row_indexer,col_indexer] = value instead\n",
      "\n",
      "See the caveats in the documentation: http://pandas.pydata.org/pandas-docs/stable/user_guide/indexing.html#returning-a-view-versus-a-copy\n",
      "  This is separate from the ipykernel package so we can avoid doing imports until\n"
     ]
    }
   ],
   "source": [
    "# get date from file name\n",
    "date = file[-11:-4].replace('-', '')\n",
    "df_result['date'] = date"
   ]
  },
  {
   "cell_type": "code",
   "execution_count": 12,
   "metadata": {},
   "outputs": [],
   "source": [
    "# reorder and rename the columns\n",
    "df_result = df_result[['date', 'resource', 'referer', 'count']].rename(\n",
    "    columns={'resource': 'title', 'referer': 'from'})\n",
    "df_result = df_result.reset_index(drop=True)"
   ]
  },
  {
   "cell_type": "code",
   "execution_count": 13,
   "metadata": {},
   "outputs": [
    {
     "data": {
      "text/html": [
       "<div>\n",
       "<style scoped>\n",
       "    .dataframe tbody tr th:only-of-type {\n",
       "        vertical-align: middle;\n",
       "    }\n",
       "\n",
       "    .dataframe tbody tr th {\n",
       "        vertical-align: top;\n",
       "    }\n",
       "\n",
       "    .dataframe thead th {\n",
       "        text-align: right;\n",
       "    }\n",
       "</style>\n",
       "<table border=\"1\" class=\"dataframe\">\n",
       "  <thead>\n",
       "    <tr style=\"text-align: right;\">\n",
       "      <th></th>\n",
       "      <th>date</th>\n",
       "      <th>title</th>\n",
       "      <th>from</th>\n",
       "      <th>count</th>\n",
       "    </tr>\n",
       "  </thead>\n",
       "  <tbody>\n",
       "    <tr>\n",
       "      <th>0</th>\n",
       "      <td>202001</td>\n",
       "      <td>--</td>\n",
       "      <td>other-external</td>\n",
       "      <td>2016</td>\n",
       "    </tr>\n",
       "    <tr>\n",
       "      <th>1</th>\n",
       "      <td>202001</td>\n",
       "      <td>--</td>\n",
       "      <td>Hyphen-minus</td>\n",
       "      <td>68</td>\n",
       "    </tr>\n",
       "    <tr>\n",
       "      <th>2</th>\n",
       "      <td>202001</td>\n",
       "      <td>-.-</td>\n",
       "      <td>other-external</td>\n",
       "      <td>65</td>\n",
       "    </tr>\n",
       "    <tr>\n",
       "      <th>3</th>\n",
       "      <td>202001</td>\n",
       "      <td>-30-</td>\n",
       "      <td>other-external</td>\n",
       "      <td>3690</td>\n",
       "    </tr>\n",
       "    <tr>\n",
       "      <th>4</th>\n",
       "      <td>202001</td>\n",
       "      <td>-30-</td>\n",
       "      <td>Art_Bell</td>\n",
       "      <td>22</td>\n",
       "    </tr>\n",
       "    <tr>\n",
       "      <th>...</th>\n",
       "      <td>...</td>\n",
       "      <td>...</td>\n",
       "      <td>...</td>\n",
       "      <td>...</td>\n",
       "    </tr>\n",
       "    <tr>\n",
       "      <th>20052453</th>\n",
       "      <td>202001</td>\n",
       "      <td>Zzzax</td>\n",
       "      <td>Brian_Banner</td>\n",
       "      <td>143</td>\n",
       "    </tr>\n",
       "    <tr>\n",
       "      <th>20052454</th>\n",
       "      <td>202001</td>\n",
       "      <td>Zzzax</td>\n",
       "      <td>Hulk_(film)</td>\n",
       "      <td>379</td>\n",
       "    </tr>\n",
       "    <tr>\n",
       "      <th>20052455</th>\n",
       "      <td>202001</td>\n",
       "      <td>Zzzz</td>\n",
       "      <td>other-external</td>\n",
       "      <td>6410</td>\n",
       "    </tr>\n",
       "    <tr>\n",
       "      <th>20052456</th>\n",
       "      <td>202001</td>\n",
       "      <td>Zzzz</td>\n",
       "      <td>Zzz</td>\n",
       "      <td>30</td>\n",
       "    </tr>\n",
       "    <tr>\n",
       "      <th>20052457</th>\n",
       "      <td>202001</td>\n",
       "      <td>Zzzz</td>\n",
       "      <td>ZZZZZ</td>\n",
       "      <td>41</td>\n",
       "    </tr>\n",
       "  </tbody>\n",
       "</table>\n",
       "<p>20052458 rows × 4 columns</p>\n",
       "</div>"
      ],
      "text/plain": [
       "            date  title            from  count\n",
       "0         202001     --  other-external   2016\n",
       "1         202001     --    Hyphen-minus     68\n",
       "2         202001    -.-  other-external     65\n",
       "3         202001   -30-  other-external   3690\n",
       "4         202001   -30-        Art_Bell     22\n",
       "...          ...    ...             ...    ...\n",
       "20052453  202001  Zzzax    Brian_Banner    143\n",
       "20052454  202001  Zzzax     Hulk_(film)    379\n",
       "20052455  202001   Zzzz  other-external   6410\n",
       "20052456  202001   Zzzz             Zzz     30\n",
       "20052457  202001   Zzzz           ZZZZZ     41\n",
       "\n",
       "[20052458 rows x 4 columns]"
      ]
     },
     "execution_count": 13,
     "metadata": {},
     "output_type": "execute_result"
    }
   ],
   "source": [
    "df_result"
   ]
  },
  {
   "cell_type": "code",
   "execution_count": 14,
   "metadata": {},
   "outputs": [
    {
     "data": {
      "text/html": [
       "<div>\n",
       "<style scoped>\n",
       "    .dataframe tbody tr th:only-of-type {\n",
       "        vertical-align: middle;\n",
       "    }\n",
       "\n",
       "    .dataframe tbody tr th {\n",
       "        vertical-align: top;\n",
       "    }\n",
       "\n",
       "    .dataframe thead th {\n",
       "        text-align: right;\n",
       "    }\n",
       "</style>\n",
       "<table border=\"1\" class=\"dataframe\">\n",
       "  <thead>\n",
       "    <tr style=\"text-align: right;\">\n",
       "      <th></th>\n",
       "      <th>date</th>\n",
       "      <th>title</th>\n",
       "      <th>from</th>\n",
       "      <th>count</th>\n",
       "    </tr>\n",
       "  </thead>\n",
       "  <tbody>\n",
       "    <tr>\n",
       "      <th>7120529</th>\n",
       "      <td>202001</td>\n",
       "      <td>Gianluca_Scamacca</td>\n",
       "      <td>other-external</td>\n",
       "      <td>3078</td>\n",
       "    </tr>\n",
       "    <tr>\n",
       "      <th>7120530</th>\n",
       "      <td>202001</td>\n",
       "      <td>Gianluca_Scamacca</td>\n",
       "      <td>2019_FIFA_U-20_World_Cup_squads</td>\n",
       "      <td>20</td>\n",
       "    </tr>\n",
       "    <tr>\n",
       "      <th>7120531</th>\n",
       "      <td>202001</td>\n",
       "      <td>Gianluca_Scamacca</td>\n",
       "      <td>2021_UEFA_European_Under-21_Championship_quali...</td>\n",
       "      <td>22</td>\n",
       "    </tr>\n",
       "    <tr>\n",
       "      <th>7120532</th>\n",
       "      <td>202001</td>\n",
       "      <td>Gianluca_Scamacca</td>\n",
       "      <td>2018_UEFA_European_Under-19_Championship</td>\n",
       "      <td>23</td>\n",
       "    </tr>\n",
       "    <tr>\n",
       "      <th>7120533</th>\n",
       "      <td>202001</td>\n",
       "      <td>Gianluca_Scamacca</td>\n",
       "      <td>U.S._Sassuolo_Calcio</td>\n",
       "      <td>81</td>\n",
       "    </tr>\n",
       "    <tr>\n",
       "      <th>7120534</th>\n",
       "      <td>202001</td>\n",
       "      <td>Gianluca_Scamacca</td>\n",
       "      <td>Ascoli_Calcio_1898_F.C.</td>\n",
       "      <td>87</td>\n",
       "    </tr>\n",
       "    <tr>\n",
       "      <th>7120535</th>\n",
       "      <td>202001</td>\n",
       "      <td>Gianluca_Scamacca</td>\n",
       "      <td>Italy_national_under-21_football_team</td>\n",
       "      <td>248</td>\n",
       "    </tr>\n",
       "    <tr>\n",
       "      <th>7120536</th>\n",
       "      <td>202001</td>\n",
       "      <td>Gianluca_Scamacca</td>\n",
       "      <td>2019–20_Coppa_Italia</td>\n",
       "      <td>333</td>\n",
       "    </tr>\n",
       "  </tbody>\n",
       "</table>\n",
       "</div>"
      ],
      "text/plain": [
       "           date              title  \\\n",
       "7120529  202001  Gianluca_Scamacca   \n",
       "7120530  202001  Gianluca_Scamacca   \n",
       "7120531  202001  Gianluca_Scamacca   \n",
       "7120532  202001  Gianluca_Scamacca   \n",
       "7120533  202001  Gianluca_Scamacca   \n",
       "7120534  202001  Gianluca_Scamacca   \n",
       "7120535  202001  Gianluca_Scamacca   \n",
       "7120536  202001  Gianluca_Scamacca   \n",
       "\n",
       "                                                      from  count  \n",
       "7120529                                     other-external   3078  \n",
       "7120530                    2019_FIFA_U-20_World_Cup_squads     20  \n",
       "7120531  2021_UEFA_European_Under-21_Championship_quali...     22  \n",
       "7120532           2018_UEFA_European_Under-19_Championship     23  \n",
       "7120533                               U.S._Sassuolo_Calcio     81  \n",
       "7120534                            Ascoli_Calcio_1898_F.C.     87  \n",
       "7120535              Italy_national_under-21_football_team    248  \n",
       "7120536                               2019–20_Coppa_Italia    333  "
      ]
     },
     "execution_count": 14,
     "metadata": {},
     "output_type": "execute_result"
    }
   ],
   "source": [
    "# to verify\n",
    "df_result[df_result['title']=='Gianluca_Scamacca']"
   ]
  },
  {
   "cell_type": "code",
   "execution_count": 15,
   "metadata": {},
   "outputs": [],
   "source": [
    "df_result.to_csv('Results/clickstream-'+date+'.csv')"
   ]
  },
  {
   "cell_type": "code",
   "execution_count": null,
   "metadata": {},
   "outputs": [],
   "source": [
    "# from pandas.io import sql\n",
    "# import MySQLdb\n",
    "\n",
    "# con = MySQLdb.connect()\n",
    "# df_result.to_sql(con=con, name='clickstream-'+date, if_exists='replace', flavor='mysql')"
   ]
  },
  {
   "cell_type": "code",
   "execution_count": null,
   "metadata": {},
   "outputs": [],
   "source": []
  }
 ],
 "metadata": {
  "kernelspec": {
   "display_name": "Python 3",
   "language": "python",
   "name": "python3"
  },
  "language_info": {
   "codemirror_mode": {
    "name": "ipython",
    "version": 3
   },
   "file_extension": ".py",
   "mimetype": "text/x-python",
   "name": "python",
   "nbconvert_exporter": "python",
   "pygments_lexer": "ipython3",
   "version": "3.7.0"
  }
 },
 "nbformat": 4,
 "nbformat_minor": 4
}
