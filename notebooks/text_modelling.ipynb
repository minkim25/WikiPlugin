{
 "cells": [
  {
   "cell_type": "code",
   "execution_count": 36,
   "metadata": {},
   "outputs": [],
   "source": [
    "import pandas as pd\n",
    "import nltk\n",
    "from nltk import word_tokenize, pos_tag\n",
    "from gensim import models\n",
    "from gensim.corpora import Dictionary, MmCorpus\n",
    "import re, string"
   ]
  },
  {
   "cell_type": "code",
   "execution_count": null,
   "metadata": {},
   "outputs": [
    {
     "name": "stdout",
     "output_type": "stream",
     "text": [
      "importing Jupyter notebook from preprocess.ipynb\n"
     ]
    }
   ],
   "source": [
    "# import import_ipynb\n",
    "# import preprocess.ipynb"
   ]
  },
  {
   "cell_type": "code",
   "execution_count": null,
   "metadata": {},
   "outputs": [],
   "source": [
    "# df_text"
   ]
  },
  {
   "cell_type": "code",
   "execution_count": 3,
   "metadata": {},
   "outputs": [
    {
     "data": {
      "text/html": [
       "<div>\n",
       "<style scoped>\n",
       "    .dataframe tbody tr th:only-of-type {\n",
       "        vertical-align: middle;\n",
       "    }\n",
       "\n",
       "    .dataframe tbody tr th {\n",
       "        vertical-align: top;\n",
       "    }\n",
       "\n",
       "    .dataframe thead th {\n",
       "        text-align: right;\n",
       "    }\n",
       "</style>\n",
       "<table border=\"1\" class=\"dataframe\">\n",
       "  <thead>\n",
       "    <tr style=\"text-align: right;\">\n",
       "      <th></th>\n",
       "      <th>sentences</th>\n",
       "      <th>idx</th>\n",
       "    </tr>\n",
       "  </thead>\n",
       "  <tbody>\n",
       "    <tr>\n",
       "      <td>0</td>\n",
       "      <td>'''Anarchism''' is an     and   that r...</td>\n",
       "      <td>0</td>\n",
       "    </tr>\n",
       "    <tr>\n",
       "      <td>1</td>\n",
       "      <td>These institutions are often described as  , a...</td>\n",
       "      <td>1</td>\n",
       "    </tr>\n",
       "    <tr>\n",
       "      <td>2</td>\n",
       "      <td>Anarchism's central disagreement with other id...</td>\n",
       "      <td>2</td>\n",
       "    </tr>\n",
       "    <tr>\n",
       "      <td>3</td>\n",
       "      <td>Anarchism is usually placed on the   of the  ,...</td>\n",
       "      <td>3</td>\n",
       "    </tr>\n",
       "    <tr>\n",
       "      <td>4</td>\n",
       "      <td>As anarchism does not offer a fixed body of do...</td>\n",
       "      <td>4</td>\n",
       "    </tr>\n",
       "    <tr>\n",
       "      <td>...</td>\n",
       "      <td>...</td>\n",
       "      <td>...</td>\n",
       "    </tr>\n",
       "    <tr>\n",
       "      <td>268</td>\n",
       "      <td>It also states that \"some sort of 'court' syst...</td>\n",
       "      <td>268</td>\n",
       "    </tr>\n",
       "    <tr>\n",
       "      <td>269</td>\n",
       "      <td>=== Industrial civilisation === In his essay '...</td>\n",
       "      <td>269</td>\n",
       "    </tr>\n",
       "    <tr>\n",
       "      <td>270</td>\n",
       "      <td>=== Tacit authoritarianism === The anarchist t...</td>\n",
       "      <td>270</td>\n",
       "    </tr>\n",
       "    <tr>\n",
       "      <td>271</td>\n",
       "      <td>== List of anarchist societies ==   *   (Fejuv...</td>\n",
       "      <td>271</td>\n",
       "    </tr>\n",
       "    <tr>\n",
       "      <td>272</td>\n",
       "      <td>is an online research center on the history an...</td>\n",
       "      <td>272</td>\n",
       "    </tr>\n",
       "  </tbody>\n",
       "</table>\n",
       "<p>273 rows × 2 columns</p>\n",
       "</div>"
      ],
      "text/plain": [
       "                                             sentences  idx\n",
       "0            '''Anarchism''' is an     and   that r...    0\n",
       "1    These institutions are often described as  , a...    1\n",
       "2    Anarchism's central disagreement with other id...    2\n",
       "3    Anarchism is usually placed on the   of the  ,...    3\n",
       "4    As anarchism does not offer a fixed body of do...    4\n",
       "..                                                 ...  ...\n",
       "268  It also states that \"some sort of 'court' syst...  268\n",
       "269  === Industrial civilisation === In his essay '...  269\n",
       "270  === Tacit authoritarianism === The anarchist t...  270\n",
       "271  == List of anarchist societies ==   *   (Fejuv...  271\n",
       "272  is an online research center on the history an...  272\n",
       "\n",
       "[273 rows x 2 columns]"
      ]
     },
     "execution_count": 3,
     "metadata": {},
     "output_type": "execute_result"
    }
   ],
   "source": [
    "import ast\n",
    "text_file = open(\"Datasets/anarchism_sentences.txt\", \"r\")\n",
    "df = pd.DataFrame(ast.literal_eval(text_file.read()), columns=['sentences'])\n",
    "df['idx'] = df.index\n",
    "df"
   ]
  },
  {
   "cell_type": "code",
   "execution_count": 44,
   "metadata": {},
   "outputs": [],
   "source": [
    "def filter_words(text):\n",
    "    '''Given a string of text, tokenize the text and pull out only the nouns.'''\n",
    "    is_noun = lambda pos: pos[:2] == 'NN' or pos[:2] == 'JJ' or pos[:2] == 'RB'\n",
    "    tokenized = word_tokenize(text)\n",
    "    all_nouns = [word for (word, pos) in pos_tag(tokenized) if is_noun(pos)] \n",
    "    return ' '.join(all_nouns)"
   ]
  },
  {
   "cell_type": "code",
   "execution_count": 60,
   "metadata": {},
   "outputs": [
    {
     "data": {
      "text/html": [
       "<div>\n",
       "<style scoped>\n",
       "    .dataframe tbody tr th:only-of-type {\n",
       "        vertical-align: middle;\n",
       "    }\n",
       "\n",
       "    .dataframe tbody tr th {\n",
       "        vertical-align: top;\n",
       "    }\n",
       "\n",
       "    .dataframe thead th {\n",
       "        text-align: right;\n",
       "    }\n",
       "</style>\n",
       "<table border=\"1\" class=\"dataframe\">\n",
       "  <thead>\n",
       "    <tr style=\"text-align: right;\">\n",
       "      <th></th>\n",
       "      <th>tokens</th>\n",
       "    </tr>\n",
       "  </thead>\n",
       "  <tbody>\n",
       "    <tr>\n",
       "      <td>0</td>\n",
       "      <td>Anarchism unjust replacement societies volunta...</td>\n",
       "    </tr>\n",
       "    <tr>\n",
       "      <td>1</td>\n",
       "      <td>institutions often several authors more specif...</td>\n",
       "    </tr>\n",
       "    <tr>\n",
       "      <td>2</td>\n",
       "      <td>Anarchism central disagreement other ideologie...</td>\n",
       "    </tr>\n",
       "    <tr>\n",
       "      <td>3</td>\n",
       "      <td>Anarchism usually much reflect</td>\n",
       "    </tr>\n",
       "    <tr>\n",
       "      <td>4</td>\n",
       "      <td>anarchism not fixed body doctrine single parti...</td>\n",
       "    </tr>\n",
       "    <tr>\n",
       "      <td>...</td>\n",
       "      <td>...</td>\n",
       "    </tr>\n",
       "    <tr>\n",
       "      <td>268</td>\n",
       "      <td>also sort court system still necessary crimes ...</td>\n",
       "    </tr>\n",
       "    <tr>\n",
       "      <td>269</td>\n",
       "      <td>Industrial civilisation essay Authority radica...</td>\n",
       "    </tr>\n",
       "    <tr>\n",
       "      <td>270</td>\n",
       "      <td>Tacit authoritarianism anarchist tendency othe...</td>\n",
       "    </tr>\n",
       "    <tr>\n",
       "      <td>271</td>\n",
       "      <td>List anarchist societies Fejuve CIPORFM Rojava...</td>\n",
       "    </tr>\n",
       "    <tr>\n",
       "      <td>272</td>\n",
       "      <td>online research center history theory anarchism</td>\n",
       "    </tr>\n",
       "  </tbody>\n",
       "</table>\n",
       "<p>273 rows × 1 columns</p>\n",
       "</div>"
      ],
      "text/plain": [
       "                                                tokens\n",
       "0    Anarchism unjust replacement societies volunta...\n",
       "1    institutions often several authors more specif...\n",
       "2    Anarchism central disagreement other ideologie...\n",
       "3                       Anarchism usually much reflect\n",
       "4    anarchism not fixed body doctrine single parti...\n",
       "..                                                 ...\n",
       "268  also sort court system still necessary crimes ...\n",
       "269  Industrial civilisation essay Authority radica...\n",
       "270  Tacit authoritarianism anarchist tendency othe...\n",
       "271  List anarchist societies Fejuve CIPORFM Rojava...\n",
       "272    online research center history theory anarchism\n",
       "\n",
       "[273 rows x 1 columns]"
      ]
     },
     "execution_count": 60,
     "metadata": {},
     "output_type": "execute_result"
    }
   ],
   "source": [
    "fil_sent = df['sentences'].values\n",
    "sen_list = []\n",
    "for i in range(0,len(fil_sent)):\n",
    "    b = filter_words(x[i])\n",
    "    res = re.sub('['+string.punctuation+']', '', b).split() \n",
    "    listToStr = ' '.join([str(val) for val in res]) \n",
    "    sen_list.append(listToStr)\n",
    "new_df = pd.DataFrame({'tokens': sen_list})\n",
    "new_df"
   ]
  },
  {
   "cell_type": "code",
   "execution_count": 61,
   "metadata": {},
   "outputs": [
    {
     "data": {
      "text/html": [
       "<div>\n",
       "<style scoped>\n",
       "    .dataframe tbody tr th:only-of-type {\n",
       "        vertical-align: middle;\n",
       "    }\n",
       "\n",
       "    .dataframe tbody tr th {\n",
       "        vertical-align: top;\n",
       "    }\n",
       "\n",
       "    .dataframe thead th {\n",
       "        text-align: right;\n",
       "    }\n",
       "</style>\n",
       "<table border=\"1\" class=\"dataframe\">\n",
       "  <thead>\n",
       "    <tr style=\"text-align: right;\">\n",
       "      <th></th>\n",
       "      <th>sentences</th>\n",
       "      <th>idx</th>\n",
       "      <th>tokens</th>\n",
       "    </tr>\n",
       "  </thead>\n",
       "  <tbody>\n",
       "    <tr>\n",
       "      <td>0</td>\n",
       "      <td>'''Anarchism''' is an     and   that r...</td>\n",
       "      <td>0</td>\n",
       "      <td>[Anarchism, unjust, replacement, societies, vo...</td>\n",
       "    </tr>\n",
       "    <tr>\n",
       "      <td>1</td>\n",
       "      <td>These institutions are often described as  , a...</td>\n",
       "      <td>1</td>\n",
       "      <td>[institutions, often, several, authors, more, ...</td>\n",
       "    </tr>\n",
       "    <tr>\n",
       "      <td>2</td>\n",
       "      <td>Anarchism's central disagreement with other id...</td>\n",
       "      <td>2</td>\n",
       "      <td>[Anarchism, central, disagreement, other, ideo...</td>\n",
       "    </tr>\n",
       "    <tr>\n",
       "      <td>3</td>\n",
       "      <td>Anarchism is usually placed on the   of the  ,...</td>\n",
       "      <td>3</td>\n",
       "      <td>[Anarchism, usually, much, reflect]</td>\n",
       "    </tr>\n",
       "    <tr>\n",
       "      <td>4</td>\n",
       "      <td>As anarchism does not offer a fixed body of do...</td>\n",
       "      <td>4</td>\n",
       "      <td>[anarchism, not, fixed, body, doctrine, single...</td>\n",
       "    </tr>\n",
       "    <tr>\n",
       "      <td>...</td>\n",
       "      <td>...</td>\n",
       "      <td>...</td>\n",
       "      <td>...</td>\n",
       "    </tr>\n",
       "    <tr>\n",
       "      <td>268</td>\n",
       "      <td>It also states that \"some sort of 'court' syst...</td>\n",
       "      <td>268</td>\n",
       "      <td>[also, sort, court, system, still, necessary, ...</td>\n",
       "    </tr>\n",
       "    <tr>\n",
       "      <td>269</td>\n",
       "      <td>=== Industrial civilisation === In his essay '...</td>\n",
       "      <td>269</td>\n",
       "      <td>[Industrial, civilisation, essay, Authority, r...</td>\n",
       "    </tr>\n",
       "    <tr>\n",
       "      <td>270</td>\n",
       "      <td>=== Tacit authoritarianism === The anarchist t...</td>\n",
       "      <td>270</td>\n",
       "      <td>[Tacit, authoritarianism, anarchist, tendency,...</td>\n",
       "    </tr>\n",
       "    <tr>\n",
       "      <td>271</td>\n",
       "      <td>== List of anarchist societies ==   *   (Fejuv...</td>\n",
       "      <td>271</td>\n",
       "      <td>[List, anarchist, societies, Fejuve, CIPORFM, ...</td>\n",
       "    </tr>\n",
       "    <tr>\n",
       "      <td>272</td>\n",
       "      <td>is an online research center on the history an...</td>\n",
       "      <td>272</td>\n",
       "      <td>[online, research, center, history, theory, an...</td>\n",
       "    </tr>\n",
       "  </tbody>\n",
       "</table>\n",
       "<p>273 rows × 3 columns</p>\n",
       "</div>"
      ],
      "text/plain": [
       "                                             sentences  idx  \\\n",
       "0            '''Anarchism''' is an     and   that r...    0   \n",
       "1    These institutions are often described as  , a...    1   \n",
       "2    Anarchism's central disagreement with other id...    2   \n",
       "3    Anarchism is usually placed on the   of the  ,...    3   \n",
       "4    As anarchism does not offer a fixed body of do...    4   \n",
       "..                                                 ...  ...   \n",
       "268  It also states that \"some sort of 'court' syst...  268   \n",
       "269  === Industrial civilisation === In his essay '...  269   \n",
       "270  === Tacit authoritarianism === The anarchist t...  270   \n",
       "271  == List of anarchist societies ==   *   (Fejuv...  271   \n",
       "272  is an online research center on the history an...  272   \n",
       "\n",
       "                                                tokens  \n",
       "0    [Anarchism, unjust, replacement, societies, vo...  \n",
       "1    [institutions, often, several, authors, more, ...  \n",
       "2    [Anarchism, central, disagreement, other, ideo...  \n",
       "3                  [Anarchism, usually, much, reflect]  \n",
       "4    [anarchism, not, fixed, body, doctrine, single...  \n",
       "..                                                 ...  \n",
       "268  [also, sort, court, system, still, necessary, ...  \n",
       "269  [Industrial, civilisation, essay, Authority, r...  \n",
       "270  [Tacit, authoritarianism, anarchist, tendency,...  \n",
       "271  [List, anarchist, societies, Fejuve, CIPORFM, ...  \n",
       "272  [online, research, center, history, theory, an...  \n",
       "\n",
       "[273 rows x 3 columns]"
      ]
     },
     "execution_count": 61,
     "metadata": {},
     "output_type": "execute_result"
    }
   ],
   "source": [
    "df['tokens'] = new_df['tokens'].apply(word_tokenize)\n",
    "df"
   ]
  },
  {
   "cell_type": "code",
   "execution_count": 55,
   "metadata": {},
   "outputs": [],
   "source": [
    "def nltk_stopwords():\n",
    "    return set(nltk.corpus.stopwords.words('english'))\n",
    "\n",
    "def prep_corpus(docs, additional_stopwords=set(), no_below=5, no_above=0.5):\n",
    "  print('Building dictionary...')\n",
    "  dictionary = Dictionary(docs)\n",
    "  stopwords = nltk_stopwords().union(additional_stopwords)\n",
    "  stopword_ids = map(dictionary.token2id.get, stopwords)\n",
    "  dictionary.filter_tokens(stopword_ids)\n",
    "  dictionary.compactify()\n",
    "  dictionary.filter_extremes(no_below=no_below, no_above=no_above, keep_n=None)\n",
    "  dictionary.compactify()\n",
    "\n",
    "  print('Building corpus...')\n",
    "  corpus = [dictionary.doc2bow(doc) for doc in docs]\n",
    "\n",
    "  return dictionary, corpus"
   ]
  },
  {
   "cell_type": "code",
   "execution_count": 56,
   "metadata": {},
   "outputs": [
    {
     "name": "stdout",
     "output_type": "stream",
     "text": [
      "Building dictionary...\n",
      "Building corpus...\n"
     ]
    }
   ],
   "source": [
    "dictionary, corpus = prep_corpus(df['tokens'])\n",
    "# dictionary, corpus = prep_corpus(res)"
   ]
  },
  {
   "cell_type": "code",
   "execution_count": 57,
   "metadata": {},
   "outputs": [],
   "source": [
    "MmCorpus.serialize('wiki_articles.mm', corpus)\n",
    "dictionary.save('wiki_articles.dict')"
   ]
  },
  {
   "cell_type": "code",
   "execution_count": 58,
   "metadata": {},
   "outputs": [
    {
     "name": "stdout",
     "output_type": "stream",
     "text": [
      "CPU times: user 6.48 s, sys: 2.39 ms, total: 6.48 s\n",
      "Wall time: 6.47 s\n"
     ]
    }
   ],
   "source": [
    "%%time\n",
    "lda = models.ldamodel.LdaModel(corpus=corpus, id2word=dictionary, num_topics=3, passes=50)\n",
    "                                      \n",
    "lda.save('anarchism.model')"
   ]
  },
  {
   "cell_type": "code",
   "execution_count": 59,
   "metadata": {},
   "outputs": [
    {
     "data": {
      "text/plain": [
       "[(0,\n",
       "  [('anarchism', 0.23549642),\n",
       "   ('anarchist', 0.05714904),\n",
       "   ('also', 0.050938323),\n",
       "   ('thought', 0.0412528),\n",
       "   ('individualist', 0.037928566),\n",
       "   ('political', 0.03703368),\n",
       "   ('free', 0.034534976),\n",
       "   ('important', 0.031042593),\n",
       "   ('theory', 0.030835174),\n",
       "   ('many', 0.024825606)]),\n",
       " (1,\n",
       "  [('state', 0.1392098),\n",
       "   ('society', 0.063399084),\n",
       "   ('workers', 0.050940588),\n",
       "   ('Anarchism', 0.049009014),\n",
       "   ('Stirner', 0.048907403),\n",
       "   ('education', 0.039513797),\n",
       "   ('violence', 0.039005514),\n",
       "   ('Anarchists', 0.03463155),\n",
       "   ('Proudhon', 0.034123108),\n",
       "   ('movements', 0.032882657)]),\n",
       " (2,\n",
       "  [('anarchist', 0.12887174),\n",
       "   ('anarchists', 0.106058225),\n",
       "   ('movement', 0.05513517),\n",
       "   ('social', 0.04442884),\n",
       "   ('century', 0.037322965),\n",
       "   ('ideas', 0.03348648),\n",
       "   ('system', 0.029913664),\n",
       "   ('first', 0.02771593),\n",
       "   ('struggle', 0.026520567),\n",
       "   ('human', 0.02649105)])]"
      ]
     },
     "execution_count": 59,
     "metadata": {},
     "output_type": "execute_result"
    }
   ],
   "source": [
    "lda.show_topics(formatted=False)"
   ]
  },
  {
   "cell_type": "code",
   "execution_count": null,
   "metadata": {},
   "outputs": [],
   "source": []
  }
 ],
 "metadata": {
  "kernelspec": {
   "display_name": "Python 3",
   "language": "python",
   "name": "python3"
  },
  "language_info": {
   "codemirror_mode": {
    "name": "ipython",
    "version": 3
   },
   "file_extension": ".py",
   "mimetype": "text/x-python",
   "name": "python",
   "nbconvert_exporter": "python",
   "pygments_lexer": "ipython3",
   "version": "3.7.4"
  }
 },
 "nbformat": 4,
 "nbformat_minor": 4
}
