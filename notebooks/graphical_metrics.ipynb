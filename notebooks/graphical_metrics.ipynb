{
 "cells": [
  {
   "cell_type": "code",
   "execution_count": 17,
   "metadata": {},
   "outputs": [],
   "source": [
    "import networkx as nx\n",
    "from networkx.algorithms import community \n",
    "import pandas as pd\n",
    "import numpy as np\n",
    "from operator import itemgetter\n"
   ]
  },
  {
   "cell_type": "code",
   "execution_count": 2,
   "metadata": {},
   "outputs": [],
   "source": [
    "df = pd.read_csv('clickstream-enwiki-2020-01.tsv',nrows=2000,sep='\\t',header=None)"
   ]
  },
  {
   "cell_type": "code",
   "execution_count": 3,
   "metadata": {},
   "outputs": [],
   "source": [
    "df.columns = ['From','To','RelationType','Count']"
   ]
  },
  {
   "cell_type": "code",
   "execution_count": 4,
   "metadata": {},
   "outputs": [],
   "source": [
    "df = df[df['RelationType']=='link']"
   ]
  },
  {
   "cell_type": "code",
   "execution_count": 6,
   "metadata": {},
   "outputs": [
    {
     "data": {
      "text/html": [
       "<div>\n",
       "<style scoped>\n",
       "    .dataframe tbody tr th:only-of-type {\n",
       "        vertical-align: middle;\n",
       "    }\n",
       "\n",
       "    .dataframe tbody tr th {\n",
       "        vertical-align: top;\n",
       "    }\n",
       "\n",
       "    .dataframe thead th {\n",
       "        text-align: right;\n",
       "    }\n",
       "</style>\n",
       "<table border=\"1\" class=\"dataframe\">\n",
       "  <thead>\n",
       "    <tr style=\"text-align: right;\">\n",
       "      <th></th>\n",
       "      <th>From</th>\n",
       "      <th>To</th>\n",
       "      <th>RelationType</th>\n",
       "      <th>Count</th>\n",
       "    </tr>\n",
       "  </thead>\n",
       "  <tbody>\n",
       "    <tr>\n",
       "      <th>0</th>\n",
       "      <td>Eddie_Albert</td>\n",
       "      <td>The_Dude_Goes_West</td>\n",
       "      <td>link</td>\n",
       "      <td>17</td>\n",
       "    </tr>\n",
       "    <tr>\n",
       "      <th>2</th>\n",
       "      <td>Gale_Storm</td>\n",
       "      <td>The_Dude_Goes_West</td>\n",
       "      <td>link</td>\n",
       "      <td>15</td>\n",
       "    </tr>\n",
       "    <tr>\n",
       "      <th>5</th>\n",
       "      <td>Ascoli_Calcio_1898_F.C.</td>\n",
       "      <td>Gianluca_Scamacca</td>\n",
       "      <td>link</td>\n",
       "      <td>87</td>\n",
       "    </tr>\n",
       "    <tr>\n",
       "      <th>7</th>\n",
       "      <td>2019–20_Coppa_Italia</td>\n",
       "      <td>Gianluca_Scamacca</td>\n",
       "      <td>link</td>\n",
       "      <td>333</td>\n",
       "    </tr>\n",
       "    <tr>\n",
       "      <th>8</th>\n",
       "      <td>2018_UEFA_European_Under-19_Championship</td>\n",
       "      <td>Gianluca_Scamacca</td>\n",
       "      <td>link</td>\n",
       "      <td>23</td>\n",
       "    </tr>\n",
       "  </tbody>\n",
       "</table>\n",
       "</div>"
      ],
      "text/plain": [
       "                                       From                  To RelationType  \\\n",
       "0                              Eddie_Albert  The_Dude_Goes_West         link   \n",
       "2                                Gale_Storm  The_Dude_Goes_West         link   \n",
       "5                   Ascoli_Calcio_1898_F.C.   Gianluca_Scamacca         link   \n",
       "7                      2019–20_Coppa_Italia   Gianluca_Scamacca         link   \n",
       "8  2018_UEFA_European_Under-19_Championship   Gianluca_Scamacca         link   \n",
       "\n",
       "   Count  \n",
       "0     17  \n",
       "2     15  \n",
       "5     87  \n",
       "7    333  \n",
       "8     23  "
      ]
     },
     "execution_count": 6,
     "metadata": {},
     "output_type": "execute_result"
    }
   ],
   "source": [
    "df.head()"
   ]
  },
  {
   "cell_type": "code",
   "execution_count": 7,
   "metadata": {},
   "outputs": [],
   "source": [
    "nodes_from = df['From'].values\n",
    "nodes_to = df['To'].values\n"
   ]
  },
  {
   "cell_type": "code",
   "execution_count": 8,
   "metadata": {},
   "outputs": [],
   "source": [
    "nodes = np.concatenate((nodes_from, nodes_to))"
   ]
  },
  {
   "cell_type": "code",
   "execution_count": 9,
   "metadata": {},
   "outputs": [],
   "source": [
    "edges = []\n",
    "for r in df.values:\n",
    "    edge = (r[0],r[1])\n",
    "    edges.append(edge)\n"
   ]
  },
  {
   "cell_type": "code",
   "execution_count": 10,
   "metadata": {},
   "outputs": [],
   "source": [
    "G = nx.Graph()\n",
    "G.add_nodes_from(nodes)\n",
    "G.add_edges_from(edges)"
   ]
  },
  {
   "cell_type": "code",
   "execution_count": 11,
   "metadata": {},
   "outputs": [
    {
     "data": {
      "text/plain": [
       "0.001247852343680885"
      ]
     },
     "execution_count": 11,
     "metadata": {},
     "output_type": "execute_result"
    }
   ],
   "source": [
    "density = nx.density(G)\n",
    "density"
   ]
  },
  {
   "cell_type": "code",
   "execution_count": 12,
   "metadata": {},
   "outputs": [
    {
     "data": {
      "text/plain": [
       "0"
      ]
     },
     "execution_count": 12,
     "metadata": {},
     "output_type": "execute_result"
    }
   ],
   "source": [
    "triadic_closure = nx.transitivity(G)\n",
    "triadic_closure"
   ]
  },
  {
   "cell_type": "code",
   "execution_count": 13,
   "metadata": {},
   "outputs": [],
   "source": [
    "degree_dict = dict(G.degree(G.nodes()))\n",
    "nx.set_node_attributes(G, degree_dict, 'degree')"
   ]
  },
  {
   "cell_type": "code",
   "execution_count": 15,
   "metadata": {},
   "outputs": [
    {
     "data": {
      "text/plain": [
       "{'degree': 7}"
      ]
     },
     "execution_count": 15,
     "metadata": {},
     "output_type": "execute_result"
    }
   ],
   "source": [
    "G.nodes['Gianluca_Scamacca']"
   ]
  },
  {
   "cell_type": "code",
   "execution_count": 18,
   "metadata": {},
   "outputs": [
    {
     "name": "stdout",
     "output_type": "stream",
     "text": [
      "Top 20 nodes by degree:\n",
      "('Ejaculation', 205)\n",
      "('Bombardier_CRJ100/200', 145)\n",
      "('Purépecha', 53)\n",
      "('Odesa_International_Airport', 50)\n",
      "('Flora_Robson', 43)\n",
      "('Bobby_Keys', 42)\n",
      "('Blyth_Spartans_A.F.C.', 40)\n",
      "('Ostracon', 39)\n",
      "('Anal_canal', 39)\n",
      "('Hukbalahap_Rebellion', 39)\n",
      "('Squaw_Valley_Ski_Resort', 37)\n",
      "('Carl_Orff', 34)\n",
      "('Vaginismus', 32)\n",
      "('The_Client_List_(TV_series)', 29)\n",
      "('A_Christmas_Carol_(2004_film)', 23)\n",
      "('1968_Winter_Olympics', 23)\n",
      "('Motorized_scooter', 21)\n",
      "('Vacuum_expectation_value', 20)\n",
      "('1963_NFL_Championship_Game', 17)\n",
      "('Provinces_of_New_Zealand', 17)\n"
     ]
    }
   ],
   "source": [
    "sorted_degree = sorted(degree_dict.items(), key=itemgetter(1), reverse=True)\n",
    "print(\"Top 20 nodes by degree:\")\n",
    "for d in sorted_degree[:20]:\n",
    "    print(d)\n"
   ]
  },
  {
   "cell_type": "code",
   "execution_count": 19,
   "metadata": {},
   "outputs": [],
   "source": [
    "betweenness_dict = nx.betweenness_centrality(G) # Run betweenness centrality\n",
    "eigenvector_dict = nx.eigenvector_centrality(G) # Run eigenvector centrality\n",
    "\n",
    "# Assigning each to an attribute\n",
    "nx.set_node_attributes(G, betweenness_dict, 'betweenness')\n",
    "nx.set_node_attributes(G, eigenvector_dict, 'eigenvector')\n"
   ]
  },
  {
   "cell_type": "code",
   "execution_count": 20,
   "metadata": {},
   "outputs": [
    {
     "name": "stdout",
     "output_type": "stream",
     "text": [
      "Top 20 nodes by betweenness centrality:\n",
      "('Ejaculation', 0.03140840933251273)\n",
      "('Bombardier_CRJ100/200', 0.009735355004755777)\n",
      "('Anal_canal', 0.008629170629814059)\n",
      "('Vaginismus', 0.006048695425129152)\n",
      "('Levator_ani', 0.005262993128768314)\n",
      "('Pudendal_nerve', 0.003578955221096999)\n",
      "('Squaw_Valley_Ski_Resort', 0.0013386113131539194)\n",
      "('Purépecha', 0.0012849922602062702)\n",
      "('Odesa_International_Airport', 0.0011423189541020908)\n",
      "('1968_Winter_Olympics', 0.0009404315634383335)\n",
      "('The_Client_List_(TV_series)', 0.0009320390160204406)\n",
      "('Flora_Robson', 0.0008420522575952554)\n",
      "('Bobby_Keys', 0.0008028870363117552)\n",
      "('A_Christmas_Carol_(2004_film)', 0.0007837706783043324)\n",
      "('Blyth_Spartans_A.F.C.', 0.000727354109550719)\n",
      "('Ostracon', 0.000690986404073183)\n",
      "('Hukbalahap_Rebellion', 0.000690986404073183)\n",
      "('Masters_and_Johnson', 0.0006888216596995189)\n",
      "('Vagina', 0.0006888216596995189)\n",
      "('Sexual_intercourse', 0.0006888216596995189)\n"
     ]
    }
   ],
   "source": [
    "sorted_betweenness = sorted(betweenness_dict.items(), key=itemgetter(1), reverse=True)\n",
    "\n",
    "print(\"Top 20 nodes by betweenness centrality:\")\n",
    "for b in sorted_betweenness[:20]:\n",
    "    print(b)\n"
   ]
  },
  {
   "cell_type": "code",
   "execution_count": 21,
   "metadata": {},
   "outputs": [
    {
     "name": "stdout",
     "output_type": "stream",
     "text": [
      "Name: Ejaculation | Betweenness Centrality: 0.03140840933251273 | Degree: 205\n",
      "Name: Bombardier_CRJ100/200 | Betweenness Centrality: 0.009735355004755777 | Degree: 145\n",
      "Name: Anal_canal | Betweenness Centrality: 0.008629170629814059 | Degree: 39\n",
      "Name: Vaginismus | Betweenness Centrality: 0.006048695425129152 | Degree: 32\n",
      "Name: Levator_ani | Betweenness Centrality: 0.005262993128768314 | Degree: 3\n",
      "Name: Pudendal_nerve | Betweenness Centrality: 0.003578955221096999 | Degree: 2\n",
      "Name: Squaw_Valley_Ski_Resort | Betweenness Centrality: 0.0013386113131539194 | Degree: 37\n",
      "Name: Purépecha | Betweenness Centrality: 0.0012849922602062702 | Degree: 53\n",
      "Name: Odesa_International_Airport | Betweenness Centrality: 0.0011423189541020908 | Degree: 50\n",
      "Name: 1968_Winter_Olympics | Betweenness Centrality: 0.0009404315634383335 | Degree: 23\n",
      "Name: The_Client_List_(TV_series) | Betweenness Centrality: 0.0009320390160204406 | Degree: 29\n",
      "Name: Flora_Robson | Betweenness Centrality: 0.0008420522575952554 | Degree: 43\n",
      "Name: Bobby_Keys | Betweenness Centrality: 0.0008028870363117552 | Degree: 42\n",
      "Name: A_Christmas_Carol_(2004_film) | Betweenness Centrality: 0.0007837706783043324 | Degree: 23\n",
      "Name: Blyth_Spartans_A.F.C. | Betweenness Centrality: 0.000727354109550719 | Degree: 40\n",
      "Name: Ostracon | Betweenness Centrality: 0.000690986404073183 | Degree: 39\n",
      "Name: Hukbalahap_Rebellion | Betweenness Centrality: 0.000690986404073183 | Degree: 39\n",
      "Name: Masters_and_Johnson | Betweenness Centrality: 0.0006888216596995189 | Degree: 2\n",
      "Name: Vagina | Betweenness Centrality: 0.0006888216596995189 | Degree: 2\n",
      "Name: Sexual_intercourse | Betweenness Centrality: 0.0006888216596995189 | Degree: 2\n"
     ]
    }
   ],
   "source": [
    "#First get the top 20 nodes by betweenness as a list\n",
    "top_betweenness = sorted_betweenness[:20]\n",
    "\n",
    "#Then find and print their degree\n",
    "for tb in top_betweenness: # Loop through top_betweenness\n",
    "    degree = degree_dict[tb[0]] # Use degree_dict to access a node's degree, see footnote 2\n",
    "    print(\"Name:\", tb[0], \"| Betweenness Centrality:\", tb[1], \"| Degree:\", degree)\n"
   ]
  },
  {
   "cell_type": "code",
   "execution_count": 22,
   "metadata": {},
   "outputs": [],
   "source": [
    "communities = community.greedy_modularity_communities(G)"
   ]
  },
  {
   "cell_type": "code",
   "execution_count": 23,
   "metadata": {},
   "outputs": [],
   "source": [
    "modularity_dict = {} # Create a blank dictionary\n",
    "for i,c in enumerate(communities): # Loop through the list of communities, keeping track of the number for the community\n",
    "    for name in c: # Loop through each person in a community\n",
    "        modularity_dict[name] = i # Create an entry in the dictionary for the person, where the value is which group they belong to.\n",
    "\n",
    "# Now you can add modularity information like we did the other metrics\n",
    "nx.set_node_attributes(G, modularity_dict, 'modularity')\n"
   ]
  },
  {
   "cell_type": "code",
   "execution_count": 25,
   "metadata": {},
   "outputs": [
    {
     "name": "stdout",
     "output_type": "stream",
     "text": [
      "Modularity Class 0 Sorted by Eigenvector Centrality:\n",
      "Name: Ejaculation | Eigenvector Centrality: 0.7065150468259145\n",
      "Name: Levator_ani | Eigenvector Centrality: 0.051902400924233344\n",
      "Name: Masters_and_Johnson | Eigenvector Centrality: 0.05129749747456322\n",
      "Name: Vagina | Eigenvector Centrality: 0.05129749747456322\n",
      "Name: Sexual_intercourse | Eigenvector Centrality: 0.05129749747456322\n"
     ]
    }
   ],
   "source": [
    "#First get a list of just the nodes in that class\n",
    "class0 = [n for n in G.nodes() if G.nodes[n]['modularity'] == 0]\n",
    "\n",
    "# Then create a dictionary of the eigenvector centralities of those nodes\n",
    "class0_eigenvector = {n:G.nodes[n]['eigenvector'] for n in class0}\n",
    "\n",
    "# Then sort that dictionary and print the first 5 results\n",
    "class0_sorted_by_eigenvector = sorted(class0_eigenvector.items(), key=itemgetter(1), reverse=True)\n",
    "\n",
    "print(\"Modularity Class 0 Sorted by Eigenvector Centrality:\")\n",
    "for node in class0_sorted_by_eigenvector[:5]:\n",
    "    print(\"Name:\", node[0], \"| Eigenvector Centrality:\", node[1])"
   ]
  },
  {
   "cell_type": "code",
   "execution_count": 39,
   "metadata": {},
   "outputs": [],
   "source": [
    "#for i,c in enumerate(communities): # Loop through the list of communities\n",
    "#    if len(c) > 2: # Filter out modularity classes with 2 or fewer nodes\n",
    "#        print('Class '+str(i)+':', list(c)) # Print out the classes and their members"
   ]
  },
  {
   "cell_type": "code",
   "execution_count": null,
   "metadata": {},
   "outputs": [],
   "source": []
  },
  {
   "cell_type": "code",
   "execution_count": 28,
   "metadata": {},
   "outputs": [],
   "source": [
    "from networkx.readwrite import json_graph"
   ]
  },
  {
   "cell_type": "code",
   "execution_count": 30,
   "metadata": {},
   "outputs": [],
   "source": [
    "json_data = json_graph.node_link_data(G)"
   ]
  },
  {
   "cell_type": "code",
   "execution_count": null,
   "metadata": {},
   "outputs": [],
   "source": []
  },
  {
   "cell_type": "code",
   "execution_count": 32,
   "metadata": {},
   "outputs": [],
   "source": [
    "import json"
   ]
  },
  {
   "cell_type": "code",
   "execution_count": 42,
   "metadata": {},
   "outputs": [],
   "source": [
    "#json.dumps(json_data)"
   ]
  },
  {
   "cell_type": "code",
   "execution_count": null,
   "metadata": {},
   "outputs": [],
   "source": []
  }
 ],
 "metadata": {
  "kernelspec": {
   "display_name": "Python 3",
   "language": "python",
   "name": "python3"
  },
  "language_info": {
   "codemirror_mode": {
    "name": "ipython",
    "version": 3
   },
   "file_extension": ".py",
   "mimetype": "text/x-python",
   "name": "python",
   "nbconvert_exporter": "python",
   "pygments_lexer": "ipython3",
   "version": "3.7.3"
  }
 },
 "nbformat": 4,
 "nbformat_minor": 4
}
