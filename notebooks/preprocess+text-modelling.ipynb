{
  "nbformat": 4,
  "nbformat_minor": 0,
  "metadata": {
    "kernelspec": {
      "name": "python3",
      "display_name": "Python 3"
    },
    "language_info": {
      "codemirror_mode": {
        "name": "ipython",
        "version": 3
      },
      "file_extension": ".py",
      "mimetype": "text/x-python",
      "name": "python",
      "nbconvert_exporter": "python",
      "pygments_lexer": "ipython3",
      "version": "3.7.4"
    },
    "colab": {
      "name": "preprocess+text-modelling.ipynb",
      "provenance": []
    },
    "accelerator": "GPU"
  },
  "cells": [
    {
      "cell_type": "code",
      "metadata": {
        "id": "_avCh-CydtIA",
        "colab_type": "code",
        "colab": {
          "base_uri": "https://localhost:8080/",
          "height": 1000
        },
        "outputId": "28d07626-19f4-4ba7-8204-1f2d725bc25d"
      },
      "source": [
        "!pip install xmltodict\n",
        "!pip install nltk\n",
        "!python -m nltk.downloader all"
      ],
      "execution_count": 1,
      "outputs": [
        {
          "output_type": "stream",
          "text": [
            "Requirement already satisfied: xmltodict in /usr/local/lib/python3.6/dist-packages (0.12.0)\n",
            "Requirement already satisfied: nltk in /usr/local/lib/python3.6/dist-packages (3.2.5)\n",
            "Requirement already satisfied: six in /usr/local/lib/python3.6/dist-packages (from nltk) (1.12.0)\n",
            "/usr/lib/python3.6/runpy.py:125: RuntimeWarning: 'nltk.downloader' found in sys.modules after import of package 'nltk', but prior to execution of 'nltk.downloader'; this may result in unpredictable behaviour\n",
            "  warn(RuntimeWarning(msg))\n",
            "[nltk_data] Downloading collection 'all'\n",
            "[nltk_data]    | \n",
            "[nltk_data]    | Downloading package abc to /root/nltk_data...\n",
            "[nltk_data]    |   Package abc is already up-to-date!\n",
            "[nltk_data]    | Downloading package alpino to /root/nltk_data...\n",
            "[nltk_data]    |   Package alpino is already up-to-date!\n",
            "[nltk_data]    | Downloading package biocreative_ppi to\n",
            "[nltk_data]    |     /root/nltk_data...\n",
            "[nltk_data]    |   Package biocreative_ppi is already up-to-date!\n",
            "[nltk_data]    | Downloading package brown to /root/nltk_data...\n",
            "[nltk_data]    |   Package brown is already up-to-date!\n",
            "[nltk_data]    | Downloading package brown_tei to /root/nltk_data...\n",
            "[nltk_data]    |   Package brown_tei is already up-to-date!\n",
            "[nltk_data]    | Downloading package cess_cat to /root/nltk_data...\n",
            "[nltk_data]    |   Package cess_cat is already up-to-date!\n",
            "[nltk_data]    | Downloading package cess_esp to /root/nltk_data...\n",
            "[nltk_data]    |   Package cess_esp is already up-to-date!\n",
            "[nltk_data]    | Downloading package chat80 to /root/nltk_data...\n",
            "[nltk_data]    |   Package chat80 is already up-to-date!\n",
            "[nltk_data]    | Downloading package city_database to\n",
            "[nltk_data]    |     /root/nltk_data...\n",
            "[nltk_data]    |   Package city_database is already up-to-date!\n",
            "[nltk_data]    | Downloading package cmudict to /root/nltk_data...\n",
            "[nltk_data]    |   Package cmudict is already up-to-date!\n",
            "[nltk_data]    | Downloading package comparative_sentences to\n",
            "[nltk_data]    |     /root/nltk_data...\n",
            "[nltk_data]    |   Package comparative_sentences is already up-to-\n",
            "[nltk_data]    |       date!\n",
            "[nltk_data]    | Downloading package comtrans to /root/nltk_data...\n",
            "[nltk_data]    |   Package comtrans is already up-to-date!\n",
            "[nltk_data]    | Downloading package conll2000 to /root/nltk_data...\n",
            "[nltk_data]    |   Package conll2000 is already up-to-date!\n",
            "[nltk_data]    | Downloading package conll2002 to /root/nltk_data...\n",
            "[nltk_data]    |   Package conll2002 is already up-to-date!\n",
            "[nltk_data]    | Downloading package conll2007 to /root/nltk_data...\n",
            "[nltk_data]    |   Package conll2007 is already up-to-date!\n",
            "[nltk_data]    | Downloading package crubadan to /root/nltk_data...\n",
            "[nltk_data]    |   Package crubadan is already up-to-date!\n",
            "[nltk_data]    | Downloading package dependency_treebank to\n",
            "[nltk_data]    |     /root/nltk_data...\n",
            "[nltk_data]    |   Package dependency_treebank is already up-to-date!\n",
            "[nltk_data]    | Downloading package dolch to /root/nltk_data...\n",
            "[nltk_data]    |   Package dolch is already up-to-date!\n",
            "[nltk_data]    | Downloading package europarl_raw to\n",
            "[nltk_data]    |     /root/nltk_data...\n",
            "[nltk_data]    |   Package europarl_raw is already up-to-date!\n",
            "[nltk_data]    | Downloading package floresta to /root/nltk_data...\n",
            "[nltk_data]    |   Package floresta is already up-to-date!\n",
            "[nltk_data]    | Downloading package framenet_v15 to\n",
            "[nltk_data]    |     /root/nltk_data...\n",
            "[nltk_data]    |   Package framenet_v15 is already up-to-date!\n",
            "[nltk_data]    | Downloading package framenet_v17 to\n",
            "[nltk_data]    |     /root/nltk_data...\n",
            "[nltk_data]    |   Package framenet_v17 is already up-to-date!\n",
            "[nltk_data]    | Downloading package gazetteers to /root/nltk_data...\n",
            "[nltk_data]    |   Package gazetteers is already up-to-date!\n",
            "[nltk_data]    | Downloading package genesis to /root/nltk_data...\n",
            "[nltk_data]    |   Package genesis is already up-to-date!\n",
            "[nltk_data]    | Downloading package gutenberg to /root/nltk_data...\n",
            "[nltk_data]    |   Package gutenberg is already up-to-date!\n",
            "[nltk_data]    | Downloading package ieer to /root/nltk_data...\n",
            "[nltk_data]    |   Package ieer is already up-to-date!\n",
            "[nltk_data]    | Downloading package inaugural to /root/nltk_data...\n",
            "[nltk_data]    |   Package inaugural is already up-to-date!\n",
            "[nltk_data]    | Downloading package indian to /root/nltk_data...\n",
            "[nltk_data]    |   Package indian is already up-to-date!\n",
            "[nltk_data]    | Downloading package jeita to /root/nltk_data...\n",
            "[nltk_data]    |   Package jeita is already up-to-date!\n",
            "[nltk_data]    | Downloading package kimmo to /root/nltk_data...\n",
            "[nltk_data]    |   Package kimmo is already up-to-date!\n",
            "[nltk_data]    | Downloading package knbc to /root/nltk_data...\n",
            "[nltk_data]    |   Package knbc is already up-to-date!\n",
            "[nltk_data]    | Downloading package lin_thesaurus to\n",
            "[nltk_data]    |     /root/nltk_data...\n",
            "[nltk_data]    |   Package lin_thesaurus is already up-to-date!\n",
            "[nltk_data]    | Downloading package mac_morpho to /root/nltk_data...\n",
            "[nltk_data]    |   Package mac_morpho is already up-to-date!\n",
            "[nltk_data]    | Downloading package machado to /root/nltk_data...\n",
            "[nltk_data]    |   Package machado is already up-to-date!\n",
            "[nltk_data]    | Downloading package masc_tagged to /root/nltk_data...\n",
            "[nltk_data]    |   Package masc_tagged is already up-to-date!\n",
            "[nltk_data]    | Downloading package moses_sample to\n",
            "[nltk_data]    |     /root/nltk_data...\n",
            "[nltk_data]    |   Package moses_sample is already up-to-date!\n",
            "[nltk_data]    | Downloading package movie_reviews to\n",
            "[nltk_data]    |     /root/nltk_data...\n",
            "[nltk_data]    |   Package movie_reviews is already up-to-date!\n",
            "[nltk_data]    | Downloading package names to /root/nltk_data...\n",
            "[nltk_data]    |   Package names is already up-to-date!\n",
            "[nltk_data]    | Downloading package nombank.1.0 to /root/nltk_data...\n",
            "[nltk_data]    |   Package nombank.1.0 is already up-to-date!\n",
            "[nltk_data]    | Downloading package nps_chat to /root/nltk_data...\n",
            "[nltk_data]    |   Package nps_chat is already up-to-date!\n",
            "[nltk_data]    | Downloading package omw to /root/nltk_data...\n",
            "[nltk_data]    |   Package omw is already up-to-date!\n",
            "[nltk_data]    | Downloading package opinion_lexicon to\n",
            "[nltk_data]    |     /root/nltk_data...\n",
            "[nltk_data]    |   Package opinion_lexicon is already up-to-date!\n",
            "[nltk_data]    | Downloading package paradigms to /root/nltk_data...\n",
            "[nltk_data]    |   Package paradigms is already up-to-date!\n",
            "[nltk_data]    | Downloading package pil to /root/nltk_data...\n",
            "[nltk_data]    |   Package pil is already up-to-date!\n",
            "[nltk_data]    | Downloading package pl196x to /root/nltk_data...\n",
            "[nltk_data]    |   Package pl196x is already up-to-date!\n",
            "[nltk_data]    | Downloading package ppattach to /root/nltk_data...\n",
            "[nltk_data]    |   Package ppattach is already up-to-date!\n",
            "[nltk_data]    | Downloading package problem_reports to\n",
            "[nltk_data]    |     /root/nltk_data...\n",
            "[nltk_data]    |   Package problem_reports is already up-to-date!\n",
            "[nltk_data]    | Downloading package propbank to /root/nltk_data...\n",
            "[nltk_data]    |   Package propbank is already up-to-date!\n",
            "[nltk_data]    | Downloading package ptb to /root/nltk_data...\n",
            "[nltk_data]    |   Package ptb is already up-to-date!\n",
            "[nltk_data]    | Downloading package product_reviews_1 to\n",
            "[nltk_data]    |     /root/nltk_data...\n",
            "[nltk_data]    |   Package product_reviews_1 is already up-to-date!\n",
            "[nltk_data]    | Downloading package product_reviews_2 to\n",
            "[nltk_data]    |     /root/nltk_data...\n",
            "[nltk_data]    |   Package product_reviews_2 is already up-to-date!\n",
            "[nltk_data]    | Downloading package pros_cons to /root/nltk_data...\n",
            "[nltk_data]    |   Package pros_cons is already up-to-date!\n",
            "[nltk_data]    | Downloading package qc to /root/nltk_data...\n",
            "[nltk_data]    |   Package qc is already up-to-date!\n",
            "[nltk_data]    | Downloading package reuters to /root/nltk_data...\n",
            "[nltk_data]    |   Package reuters is already up-to-date!\n",
            "[nltk_data]    | Downloading package rte to /root/nltk_data...\n",
            "[nltk_data]    |   Package rte is already up-to-date!\n",
            "[nltk_data]    | Downloading package semcor to /root/nltk_data...\n",
            "[nltk_data]    |   Package semcor is already up-to-date!\n",
            "[nltk_data]    | Downloading package senseval to /root/nltk_data...\n",
            "[nltk_data]    |   Package senseval is already up-to-date!\n",
            "[nltk_data]    | Downloading package sentiwordnet to\n",
            "[nltk_data]    |     /root/nltk_data...\n",
            "[nltk_data]    |   Package sentiwordnet is already up-to-date!\n",
            "[nltk_data]    | Downloading package sentence_polarity to\n",
            "[nltk_data]    |     /root/nltk_data...\n",
            "[nltk_data]    |   Package sentence_polarity is already up-to-date!\n",
            "[nltk_data]    | Downloading package shakespeare to /root/nltk_data...\n",
            "[nltk_data]    |   Package shakespeare is already up-to-date!\n",
            "[nltk_data]    | Downloading package sinica_treebank to\n",
            "[nltk_data]    |     /root/nltk_data...\n",
            "[nltk_data]    |   Package sinica_treebank is already up-to-date!\n",
            "[nltk_data]    | Downloading package smultron to /root/nltk_data...\n",
            "[nltk_data]    |   Package smultron is already up-to-date!\n",
            "[nltk_data]    | Downloading package state_union to /root/nltk_data...\n",
            "[nltk_data]    |   Package state_union is already up-to-date!\n",
            "[nltk_data]    | Downloading package stopwords to /root/nltk_data...\n",
            "[nltk_data]    |   Package stopwords is already up-to-date!\n",
            "[nltk_data]    | Downloading package subjectivity to\n",
            "[nltk_data]    |     /root/nltk_data...\n",
            "[nltk_data]    |   Package subjectivity is already up-to-date!\n",
            "[nltk_data]    | Downloading package swadesh to /root/nltk_data...\n",
            "[nltk_data]    |   Package swadesh is already up-to-date!\n",
            "[nltk_data]    | Downloading package switchboard to /root/nltk_data...\n",
            "[nltk_data]    |   Package switchboard is already up-to-date!\n",
            "[nltk_data]    | Downloading package timit to /root/nltk_data...\n",
            "[nltk_data]    |   Package timit is already up-to-date!\n",
            "[nltk_data]    | Downloading package toolbox to /root/nltk_data...\n",
            "[nltk_data]    |   Package toolbox is already up-to-date!\n",
            "[nltk_data]    | Downloading package treebank to /root/nltk_data...\n",
            "[nltk_data]    |   Package treebank is already up-to-date!\n",
            "[nltk_data]    | Downloading package twitter_samples to\n",
            "[nltk_data]    |     /root/nltk_data...\n",
            "[nltk_data]    |   Package twitter_samples is already up-to-date!\n",
            "[nltk_data]    | Downloading package udhr to /root/nltk_data...\n",
            "[nltk_data]    |   Package udhr is already up-to-date!\n",
            "[nltk_data]    | Downloading package udhr2 to /root/nltk_data...\n",
            "[nltk_data]    |   Package udhr2 is already up-to-date!\n",
            "[nltk_data]    | Downloading package unicode_samples to\n",
            "[nltk_data]    |     /root/nltk_data...\n",
            "[nltk_data]    |   Package unicode_samples is already up-to-date!\n",
            "[nltk_data]    | Downloading package universal_treebanks_v20 to\n",
            "[nltk_data]    |     /root/nltk_data...\n",
            "[nltk_data]    |   Package universal_treebanks_v20 is already up-to-\n",
            "[nltk_data]    |       date!\n",
            "[nltk_data]    | Downloading package verbnet to /root/nltk_data...\n",
            "[nltk_data]    |   Package verbnet is already up-to-date!\n",
            "[nltk_data]    | Downloading package verbnet3 to /root/nltk_data...\n",
            "[nltk_data]    |   Package verbnet3 is already up-to-date!\n",
            "[nltk_data]    | Downloading package webtext to /root/nltk_data...\n",
            "[nltk_data]    |   Package webtext is already up-to-date!\n",
            "[nltk_data]    | Downloading package wordnet to /root/nltk_data...\n",
            "[nltk_data]    |   Package wordnet is already up-to-date!\n",
            "[nltk_data]    | Downloading package wordnet_ic to /root/nltk_data...\n",
            "[nltk_data]    |   Package wordnet_ic is already up-to-date!\n",
            "[nltk_data]    | Downloading package words to /root/nltk_data...\n",
            "[nltk_data]    |   Package words is already up-to-date!\n",
            "[nltk_data]    | Downloading package ycoe to /root/nltk_data...\n",
            "[nltk_data]    |   Package ycoe is already up-to-date!\n",
            "[nltk_data]    | Downloading package rslp to /root/nltk_data...\n",
            "[nltk_data]    |   Package rslp is already up-to-date!\n",
            "[nltk_data]    | Downloading package maxent_treebank_pos_tagger to\n",
            "[nltk_data]    |     /root/nltk_data...\n",
            "[nltk_data]    |   Package maxent_treebank_pos_tagger is already up-\n",
            "[nltk_data]    |       to-date!\n",
            "[nltk_data]    | Downloading package universal_tagset to\n",
            "[nltk_data]    |     /root/nltk_data...\n",
            "[nltk_data]    |   Package universal_tagset is already up-to-date!\n",
            "[nltk_data]    | Downloading package maxent_ne_chunker to\n",
            "[nltk_data]    |     /root/nltk_data...\n",
            "[nltk_data]    |   Package maxent_ne_chunker is already up-to-date!\n",
            "[nltk_data]    | Downloading package punkt to /root/nltk_data...\n",
            "[nltk_data]    |   Package punkt is already up-to-date!\n",
            "[nltk_data]    | Downloading package book_grammars to\n",
            "[nltk_data]    |     /root/nltk_data...\n",
            "[nltk_data]    |   Package book_grammars is already up-to-date!\n",
            "[nltk_data]    | Downloading package sample_grammars to\n",
            "[nltk_data]    |     /root/nltk_data...\n",
            "[nltk_data]    |   Package sample_grammars is already up-to-date!\n",
            "[nltk_data]    | Downloading package spanish_grammars to\n",
            "[nltk_data]    |     /root/nltk_data...\n",
            "[nltk_data]    |   Package spanish_grammars is already up-to-date!\n",
            "[nltk_data]    | Downloading package basque_grammars to\n",
            "[nltk_data]    |     /root/nltk_data...\n",
            "[nltk_data]    |   Package basque_grammars is already up-to-date!\n",
            "[nltk_data]    | Downloading package large_grammars to\n",
            "[nltk_data]    |     /root/nltk_data...\n",
            "[nltk_data]    |   Package large_grammars is already up-to-date!\n",
            "[nltk_data]    | Downloading package tagsets to /root/nltk_data...\n",
            "[nltk_data]    |   Package tagsets is already up-to-date!\n",
            "[nltk_data]    | Downloading package snowball_data to\n",
            "[nltk_data]    |     /root/nltk_data...\n",
            "[nltk_data]    |   Package snowball_data is already up-to-date!\n",
            "[nltk_data]    | Downloading package bllip_wsj_no_aux to\n",
            "[nltk_data]    |     /root/nltk_data...\n",
            "[nltk_data]    |   Package bllip_wsj_no_aux is already up-to-date!\n",
            "[nltk_data]    | Downloading package word2vec_sample to\n",
            "[nltk_data]    |     /root/nltk_data...\n",
            "[nltk_data]    |   Package word2vec_sample is already up-to-date!\n",
            "[nltk_data]    | Downloading package panlex_swadesh to\n",
            "[nltk_data]    |     /root/nltk_data...\n",
            "[nltk_data]    |   Package panlex_swadesh is already up-to-date!\n",
            "[nltk_data]    | Downloading package mte_teip5 to /root/nltk_data...\n",
            "[nltk_data]    |   Package mte_teip5 is already up-to-date!\n",
            "[nltk_data]    | Downloading package averaged_perceptron_tagger to\n",
            "[nltk_data]    |     /root/nltk_data...\n",
            "[nltk_data]    |   Package averaged_perceptron_tagger is already up-\n",
            "[nltk_data]    |       to-date!\n",
            "[nltk_data]    | Downloading package averaged_perceptron_tagger_ru to\n",
            "[nltk_data]    |     /root/nltk_data...\n",
            "[nltk_data]    |   Package averaged_perceptron_tagger_ru is already\n",
            "[nltk_data]    |       up-to-date!\n",
            "[nltk_data]    | Downloading package perluniprops to\n",
            "[nltk_data]    |     /root/nltk_data...\n",
            "[nltk_data]    |   Package perluniprops is already up-to-date!\n",
            "[nltk_data]    | Downloading package nonbreaking_prefixes to\n",
            "[nltk_data]    |     /root/nltk_data...\n",
            "[nltk_data]    |   Package nonbreaking_prefixes is already up-to-date!\n",
            "[nltk_data]    | Downloading package vader_lexicon to\n",
            "[nltk_data]    |     /root/nltk_data...\n",
            "[nltk_data]    |   Package vader_lexicon is already up-to-date!\n",
            "[nltk_data]    | Downloading package porter_test to /root/nltk_data...\n",
            "[nltk_data]    |   Package porter_test is already up-to-date!\n",
            "[nltk_data]    | Downloading package wmt15_eval to /root/nltk_data...\n",
            "[nltk_data]    |   Package wmt15_eval is already up-to-date!\n",
            "[nltk_data]    | Downloading package mwa_ppdb to /root/nltk_data...\n",
            "[nltk_data]    |   Package mwa_ppdb is already up-to-date!\n",
            "[nltk_data]    | \n",
            "[nltk_data]  Done downloading collection all\n"
          ],
          "name": "stdout"
        }
      ]
    },
    {
      "cell_type": "code",
      "metadata": {
        "id": "Q4NGBdVddtIZ",
        "colab_type": "code",
        "colab": {
          "base_uri": "https://localhost:8080/",
          "height": 69
        },
        "outputId": "6483dc66-d6ce-4178-8ddb-c34196cbef26"
      },
      "source": [
        "# df_click = pd.read_csv('Datasets/clickstream-enwiki-2020-01.tsv', delimiter='\\t', encoding='utf-8', names=['referer', 'resource', 'path', 'count'])\n",
        "import pandas as pd\n",
        "import xmltodict, nltk\n",
        "import json\n",
        "import re, string, ast\n",
        "import numpy as np\n",
        "\n",
        "from gensim import models\n",
        "from gensim.corpora import Dictionary, MmCorpus\n",
        "from nltk import download, tokenize, word_tokenize, pos_tag \n",
        "from nltk.corpus import stopwords\n",
        "nltk.download('punkt')\n"
      ],
      "execution_count": 25,
      "outputs": [
        {
          "output_type": "stream",
          "text": [
            "[nltk_data] Downloading package punkt to /root/nltk_data...\n",
            "[nltk_data]   Package punkt is already up-to-date!\n"
          ],
          "name": "stdout"
        },
        {
          "output_type": "execute_result",
          "data": {
            "text/plain": [
              "True"
            ]
          },
          "metadata": {
            "tags": []
          },
          "execution_count": 25
        }
      ]
    },
    {
      "cell_type": "code",
      "metadata": {
        "id": "sqr_qycAdtIq",
        "colab_type": "code",
        "colab": {}
      },
      "source": [
        "#df_click.head(10)"
      ],
      "execution_count": 0,
      "outputs": []
    },
    {
      "cell_type": "markdown",
      "metadata": {
        "id": "wlYKzLenfClS",
        "colab_type": "text"
      },
      "source": [
        "# New Section"
      ]
    },
    {
      "cell_type": "code",
      "metadata": {
        "id": "76L74JhPdtI2",
        "colab_type": "code",
        "colab": {}
      },
      "source": [
        "# with open('Datasets/enwiki-20200101-pages-articles-multistream-index1.txt-p10p30302', encoding='utf8') as file:\n",
        "#     data_index = file.read()"
      ],
      "execution_count": 0,
      "outputs": []
    },
    {
      "cell_type": "code",
      "metadata": {
        "id": "n7pZt2p5dtJD",
        "colab_type": "code",
        "colab": {}
      },
      "source": [
        "with open('enwiki-20200101-pages-articles-multistream1.xml-p10p30302', encoding='utf8') as file:\n",
        "    #data_text = file.read()\n",
        "    doc = xmltodict.parse(file.read())"
      ],
      "execution_count": 0,
      "outputs": []
    },
    {
      "cell_type": "code",
      "metadata": {
        "scrolled": false,
        "id": "ppy2bCZJdtJO",
        "colab_type": "code",
        "colab": {}
      },
      "source": [
        "# print(doc['mediawiki']['page'][11])"
      ],
      "execution_count": 0,
      "outputs": []
    },
    {
      "cell_type": "code",
      "metadata": {
        "id": "CdK4NJKNdtJZ",
        "colab_type": "code",
        "colab": {}
      },
      "source": [
        "df_text = pd.DataFrame(columns=['title', 'text', 'wiki_link', 'redirect'])\n",
        "\n",
        "for page in doc['mediawiki']['page']:\n",
        "    title = page['title']\n",
        "    text_w = ''\n",
        "    text_s = ''\n",
        "    wiki_link = ''\n",
        "    redirect = 'F'\n",
        "    \n",
        "    if 'redirect' in page:\n",
        "        # only keeping redirecting link\n",
        "        txt = re.search('(\\[\\[(.*?)\\]\\])', page['revision']['text']['#text']).group(1)\n",
        "        txt = re.sub('\\[*\\]*', '', txt)\n",
        "        redirect = 'T'\n",
        "        wiki_link = txt.strip()\n",
        "        \n",
        "    else:\n",
        "        # getting rid of {{~}}, [[File:~]], <!-- ~ -->, <ref ~ />, <ref ~</ref>, <br~>\n",
        "        txt = re.sub(r'({{(.*?)}})|(\\[\\[File:(.*?)\\n)|(\\<\\!\\-\\-(.*?)\\-\\-\\>)|(\\<ref(.*?)\\/\\>)|(\\<ref(.*?)\\<\\/ref\\>)|(\\<br(\\s?\\/?)\\>)', \n",
        "                     '', page['revision']['text']['#text'], 0, re.DOTALL)\n",
        "        \n",
        "        # separating internal links\n",
        "        link = re.findall('(\\[\\[(.*?)\\]\\])', txt)\n",
        "        text_w = re.sub('(\\[\\[(.*?)\\]\\])|(\\\\n)', ' ', txt, 0, re.DOTALL)\n",
        "        text_s = re.sub('(?<=^\\[\\[\\b).*(?=\\b\\|(.*?)\\]\\])|(\\\\n)',' ',txt, 0, re.DOTALL) #keeping the links first\n",
        "        text_s = re.sub('(\\[\\[(.*?)\\]\\])|(\\\\n)', ' ', text_s, 0, re.DOTALL)\n",
        "        \n",
        "        for c in link:\n",
        "            if '|' in c[1]:\n",
        "                sep = c[1].split('|')\n",
        "                wiki_link = wiki_link + ', ' + sep[0]\n",
        "                text_w = text_w + ', ' + sep[1]\n",
        "            else:\n",
        "                wiki_link = wiki_link + ', ' + c[1]\n",
        "                text_w = text_w + ', ' + c[1]\n",
        "                \n",
        "    df_text = df_text.append({'title': title, 'text': text_w, 'wiki_link': wiki_link, 'redirect': redirect, 'sentences': text_s}, ignore_index=True) \n",
        "    "
      ],
      "execution_count": 0,
      "outputs": []
    },
    {
      "cell_type": "code",
      "metadata": {
        "id": "tNwzC7q0dtJh",
        "colab_type": "code",
        "colab": {}
      },
      "source": [
        "# df_text['sentences'][1] # full article text for Anarchism article"
      ],
      "execution_count": 0,
      "outputs": []
    },
    {
      "cell_type": "code",
      "metadata": {
        "id": "ThYkM1k-dtJs",
        "colab_type": "code",
        "colab": {}
      },
      "source": [
        "def preprocess_sentence(doc):\n",
        "    return tokenize.sent_tokenize(doc)"
      ],
      "execution_count": 0,
      "outputs": []
    },
    {
      "cell_type": "code",
      "metadata": {
        "id": "DB3RoDxwdtJ5",
        "colab_type": "code",
        "colab": {}
      },
      "source": [
        "df_text['sentences'] = df_text['sentences'].apply(preprocess_sentence)"
      ],
      "execution_count": 0,
      "outputs": []
    },
    {
      "cell_type": "code",
      "metadata": {
        "id": "1fFo_6TmdtKF",
        "colab_type": "code",
        "colab": {
          "base_uri": "https://localhost:8080/",
          "height": 86
        },
        "outputId": "6867f5fd-4a30-4049-9722-9f2456d29e7e"
      },
      "source": [
        "nltk.download('stopwords')\n",
        "nltk.download('punkt')\n",
        "stop_words = stopwords.words('english')"
      ],
      "execution_count": 11,
      "outputs": [
        {
          "output_type": "stream",
          "text": [
            "[nltk_data] Downloading package stopwords to /root/nltk_data...\n",
            "[nltk_data]   Package stopwords is already up-to-date!\n",
            "[nltk_data] Downloading package punkt to /root/nltk_data...\n",
            "[nltk_data]   Package punkt is already up-to-date!\n"
          ],
          "name": "stdout"
        }
      ]
    },
    {
      "cell_type": "code",
      "metadata": {
        "id": "zGFC_PAHdtKS",
        "colab_type": "code",
        "colab": {}
      },
      "source": [
        "def preprocess_word(doc):\n",
        "    doc = doc.lower()  # Lower the text.\n",
        "    doc = word_tokenize(doc)  # Split into words.\n",
        "    doc = [w for w in doc if not w in stop_words]  # Remove stopwords.\n",
        "    doc = [w for w in doc if w.isalpha()]  # Remove numbers and punctuation.\n",
        "    while (doc.count('n')): \n",
        "        doc.remove('n') \n",
        "    while (doc.count('br')): \n",
        "        doc.remove('br') \n",
        "    return doc"
      ],
      "execution_count": 0,
      "outputs": []
    },
    {
      "cell_type": "code",
      "metadata": {
        "id": "2HQUxR9EdtKa",
        "colab_type": "code",
        "colab": {}
      },
      "source": [
        "df_text['text'] = df_text['text'].apply(preprocess_word)"
      ],
      "execution_count": 0,
      "outputs": []
    },
    {
      "cell_type": "code",
      "metadata": {
        "id": "sDA_7lvBdtKl",
        "colab_type": "code",
        "colab": {}
      },
      "source": [
        "def preprocess_link(doc):\n",
        "    if doc.startswith(', '):\n",
        "        doc = doc[2:]\n",
        "    doc = doc.split(', ')\n",
        "    return doc"
      ],
      "execution_count": 0,
      "outputs": []
    },
    {
      "cell_type": "code",
      "metadata": {
        "id": "0F1oX7GDdtKu",
        "colab_type": "code",
        "colab": {}
      },
      "source": [
        "df_text['wiki_link'] = df_text['wiki_link'].apply(preprocess_link)"
      ],
      "execution_count": 0,
      "outputs": []
    },
    {
      "cell_type": "markdown",
      "metadata": {
        "id": "0YbgIWBEdtK2",
        "colab_type": "text"
      },
      "source": [
        "# Text Modelling for each topic"
      ]
    },
    {
      "cell_type": "code",
      "metadata": {
        "id": "9Ggs4kZzdtK4",
        "colab_type": "code",
        "colab": {
          "base_uri": "https://localhost:8080/",
          "height": 224
        },
        "outputId": "d56a0060-b3c1-4886-82a7-a6beb36b77a8"
      },
      "source": [
        "df_text.head(5)"
      ],
      "execution_count": 16,
      "outputs": [
        {
          "output_type": "execute_result",
          "data": {
            "text/html": [
              "<div>\n",
              "<style scoped>\n",
              "    .dataframe tbody tr th:only-of-type {\n",
              "        vertical-align: middle;\n",
              "    }\n",
              "\n",
              "    .dataframe tbody tr th {\n",
              "        vertical-align: top;\n",
              "    }\n",
              "\n",
              "    .dataframe thead th {\n",
              "        text-align: right;\n",
              "    }\n",
              "</style>\n",
              "<table border=\"1\" class=\"dataframe\">\n",
              "  <thead>\n",
              "    <tr style=\"text-align: right;\">\n",
              "      <th></th>\n",
              "      <th>title</th>\n",
              "      <th>text</th>\n",
              "      <th>wiki_link</th>\n",
              "      <th>redirect</th>\n",
              "      <th>sentences</th>\n",
              "    </tr>\n",
              "  </thead>\n",
              "  <tbody>\n",
              "    <tr>\n",
              "      <th>0</th>\n",
              "      <td>AccessibleComputing</td>\n",
              "      <td>[]</td>\n",
              "      <td>[Computer accessibility]</td>\n",
              "      <td>T</td>\n",
              "      <td>[]</td>\n",
              "    </tr>\n",
              "    <tr>\n",
              "      <th>1</th>\n",
              "      <td>Anarchism</td>\n",
              "      <td>[anarchism, rejects, deemed, unjust, advocates...</td>\n",
              "      <td>[Anti-authoritarianism, Political philosophy, ...</td>\n",
              "      <td>F</td>\n",
              "      <td>[        '''Anarchism''' is an     and   that ...</td>\n",
              "    </tr>\n",
              "    <tr>\n",
              "      <th>2</th>\n",
              "      <td>AfghanistanHistory</td>\n",
              "      <td>[]</td>\n",
              "      <td>[History of Afghanistan]</td>\n",
              "      <td>T</td>\n",
              "      <td>[]</td>\n",
              "    </tr>\n",
              "    <tr>\n",
              "      <th>3</th>\n",
              "      <td>AfghanistanGeography</td>\n",
              "      <td>[]</td>\n",
              "      <td>[Geography of Afghanistan]</td>\n",
              "      <td>T</td>\n",
              "      <td>[]</td>\n",
              "    </tr>\n",
              "    <tr>\n",
              "      <th>4</th>\n",
              "      <td>AfghanistanPeople</td>\n",
              "      <td>[]</td>\n",
              "      <td>[Demographics of Afghanistan]</td>\n",
              "      <td>T</td>\n",
              "      <td>[]</td>\n",
              "    </tr>\n",
              "  </tbody>\n",
              "</table>\n",
              "</div>"
            ],
            "text/plain": [
              "                  title  ...                                          sentences\n",
              "0   AccessibleComputing  ...                                                 []\n",
              "1             Anarchism  ...  [        '''Anarchism''' is an     and   that ...\n",
              "2    AfghanistanHistory  ...                                                 []\n",
              "3  AfghanistanGeography  ...                                                 []\n",
              "4     AfghanistanPeople  ...                                                 []\n",
              "\n",
              "[5 rows x 5 columns]"
            ]
          },
          "metadata": {
            "tags": []
          },
          "execution_count": 16
        }
      ]
    },
    {
      "cell_type": "code",
      "metadata": {
        "id": "WCIFjxxydtK_",
        "colab_type": "code",
        "colab": {}
      },
      "source": [
        "def filter_words(text):\n",
        "    '''Given a string of text, tokenize the text and pull out only the nouns.'''\n",
        "    is_noun = lambda pos: pos[:2] == 'NN' or pos[:2] == 'JJ' or pos[:2] == 'RB'\n",
        "    tokenized = word_tokenize(text)\n",
        "    all_nouns = [word for (word, pos) in pos_tag(tokenized) if is_noun(pos)] \n",
        "    return ' '.join(all_nouns)"
      ],
      "execution_count": 0,
      "outputs": []
    },
    {
      "cell_type": "code",
      "metadata": {
        "id": "kpqzLyXOdtLI",
        "colab_type": "code",
        "colab": {
          "base_uri": "https://localhost:8080/",
          "height": 424
        },
        "outputId": "764bee47-0098-4edc-81e7-cd064a238c01"
      },
      "source": [
        "#Picks out nouns, adverbs, adjectives and removes unwanted characters of each sentence for each article\n",
        "final_ls = []\n",
        "for i in range(0, len(df_text)):\n",
        "    fil_sent = df_text['sentences'][i]\n",
        "    sen_list = []\n",
        "    for j in range(0,len(fil_sent)):\n",
        "        b = filter_words(fil_sent[j])\n",
        "        res = re.sub('['+string.punctuation+']', '', b).split() \n",
        "        listToStr = ' '.join([str(val) for val in res]) \n",
        "        sen_list.append(listToStr)\n",
        "    listToStr2 = ' '.join([str(val) for val in sen_list])\n",
        "    final_ls.append(listToStr2)\n",
        "new_df = pd.DataFrame({'tokens': final_ls})\n",
        "new_df"
      ],
      "execution_count": 18,
      "outputs": [
        {
          "output_type": "execute_result",
          "data": {
            "text/html": [
              "<div>\n",
              "<style scoped>\n",
              "    .dataframe tbody tr th:only-of-type {\n",
              "        vertical-align: middle;\n",
              "    }\n",
              "\n",
              "    .dataframe tbody tr th {\n",
              "        vertical-align: top;\n",
              "    }\n",
              "\n",
              "    .dataframe thead th {\n",
              "        text-align: right;\n",
              "    }\n",
              "</style>\n",
              "<table border=\"1\" class=\"dataframe\">\n",
              "  <thead>\n",
              "    <tr style=\"text-align: right;\">\n",
              "      <th></th>\n",
              "      <th>tokens</th>\n",
              "    </tr>\n",
              "  </thead>\n",
              "  <tbody>\n",
              "    <tr>\n",
              "      <th>0</th>\n",
              "      <td></td>\n",
              "    </tr>\n",
              "    <tr>\n",
              "      <th>1</th>\n",
              "      <td>Anarchism unjust replacement societies volunta...</td>\n",
              "    </tr>\n",
              "    <tr>\n",
              "      <th>2</th>\n",
              "      <td></td>\n",
              "    </tr>\n",
              "    <tr>\n",
              "      <th>3</th>\n",
              "      <td></td>\n",
              "    </tr>\n",
              "    <tr>\n",
              "      <th>4</th>\n",
              "      <td></td>\n",
              "    </tr>\n",
              "    <tr>\n",
              "      <th>...</th>\n",
              "      <td>...</td>\n",
              "    </tr>\n",
              "    <tr>\n",
              "      <th>19810</th>\n",
              "      <td></td>\n",
              "    </tr>\n",
              "    <tr>\n",
              "      <th>19811</th>\n",
              "      <td>Tax Freedom Day first day year whole theoretic...</td>\n",
              "    </tr>\n",
              "    <tr>\n",
              "      <th>19812</th>\n",
              "      <td>tax compulsory financial charge other type lev...</td>\n",
              "    </tr>\n",
              "    <tr>\n",
              "      <th>19813</th>\n",
              "      <td>Transhumanism H h international transformation...</td>\n",
              "    </tr>\n",
              "    <tr>\n",
              "      <th>19814</th>\n",
              "      <td>episodecreator genre type Travels time space C...</td>\n",
              "    </tr>\n",
              "  </tbody>\n",
              "</table>\n",
              "<p>19815 rows × 1 columns</p>\n",
              "</div>"
            ],
            "text/plain": [
              "                                                  tokens\n",
              "0                                                       \n",
              "1      Anarchism unjust replacement societies volunta...\n",
              "2                                                       \n",
              "3                                                       \n",
              "4                                                       \n",
              "...                                                  ...\n",
              "19810                                                   \n",
              "19811  Tax Freedom Day first day year whole theoretic...\n",
              "19812  tax compulsory financial charge other type lev...\n",
              "19813  Transhumanism H h international transformation...\n",
              "19814  episodecreator genre type Travels time space C...\n",
              "\n",
              "[19815 rows x 1 columns]"
            ]
          },
          "metadata": {
            "tags": []
          },
          "execution_count": 18
        }
      ]
    },
    {
      "cell_type": "code",
      "metadata": {
        "id": "jXmJHcQAdtLQ",
        "colab_type": "code",
        "colab": {
          "base_uri": "https://localhost:8080/",
          "height": 580
        },
        "outputId": "c6ca4515-cbfc-46cc-b2d2-15b3b62872d1"
      },
      "source": [
        "df_text['tokens'] = new_df['tokens'].apply(word_tokenize)\n",
        "df_text"
      ],
      "execution_count": 19,
      "outputs": [
        {
          "output_type": "execute_result",
          "data": {
            "text/html": [
              "<div>\n",
              "<style scoped>\n",
              "    .dataframe tbody tr th:only-of-type {\n",
              "        vertical-align: middle;\n",
              "    }\n",
              "\n",
              "    .dataframe tbody tr th {\n",
              "        vertical-align: top;\n",
              "    }\n",
              "\n",
              "    .dataframe thead th {\n",
              "        text-align: right;\n",
              "    }\n",
              "</style>\n",
              "<table border=\"1\" class=\"dataframe\">\n",
              "  <thead>\n",
              "    <tr style=\"text-align: right;\">\n",
              "      <th></th>\n",
              "      <th>title</th>\n",
              "      <th>text</th>\n",
              "      <th>wiki_link</th>\n",
              "      <th>redirect</th>\n",
              "      <th>sentences</th>\n",
              "      <th>tokens</th>\n",
              "    </tr>\n",
              "  </thead>\n",
              "  <tbody>\n",
              "    <tr>\n",
              "      <th>0</th>\n",
              "      <td>AccessibleComputing</td>\n",
              "      <td>[]</td>\n",
              "      <td>[Computer accessibility]</td>\n",
              "      <td>T</td>\n",
              "      <td>[]</td>\n",
              "      <td>[]</td>\n",
              "    </tr>\n",
              "    <tr>\n",
              "      <th>1</th>\n",
              "      <td>Anarchism</td>\n",
              "      <td>[anarchism, rejects, deemed, unjust, advocates...</td>\n",
              "      <td>[Anti-authoritarianism, Political philosophy, ...</td>\n",
              "      <td>F</td>\n",
              "      <td>[        '''Anarchism''' is an     and   that ...</td>\n",
              "      <td>[Anarchism, unjust, replacement, societies, vo...</td>\n",
              "    </tr>\n",
              "    <tr>\n",
              "      <th>2</th>\n",
              "      <td>AfghanistanHistory</td>\n",
              "      <td>[]</td>\n",
              "      <td>[History of Afghanistan]</td>\n",
              "      <td>T</td>\n",
              "      <td>[]</td>\n",
              "      <td>[]</td>\n",
              "    </tr>\n",
              "    <tr>\n",
              "      <th>3</th>\n",
              "      <td>AfghanistanGeography</td>\n",
              "      <td>[]</td>\n",
              "      <td>[Geography of Afghanistan]</td>\n",
              "      <td>T</td>\n",
              "      <td>[]</td>\n",
              "      <td>[]</td>\n",
              "    </tr>\n",
              "    <tr>\n",
              "      <th>4</th>\n",
              "      <td>AfghanistanPeople</td>\n",
              "      <td>[]</td>\n",
              "      <td>[Demographics of Afghanistan]</td>\n",
              "      <td>T</td>\n",
              "      <td>[]</td>\n",
              "      <td>[]</td>\n",
              "    </tr>\n",
              "    <tr>\n",
              "      <th>...</th>\n",
              "      <td>...</td>\n",
              "      <td>...</td>\n",
              "      <td>...</td>\n",
              "      <td>...</td>\n",
              "      <td>...</td>\n",
              "      <td>...</td>\n",
              "    </tr>\n",
              "    <tr>\n",
              "      <th>19810</th>\n",
              "      <td>The Lord of the Rings/One Ring</td>\n",
              "      <td>[]</td>\n",
              "      <td>[One Ring]</td>\n",
              "      <td>T</td>\n",
              "      <td>[]</td>\n",
              "      <td>[]</td>\n",
              "    </tr>\n",
              "    <tr>\n",
              "      <th>19811</th>\n",
              "      <td>Tax Freedom Day</td>\n",
              "      <td>[tax, freedom, day, first, day, year, whole, t...</td>\n",
              "      <td>[nation, Tax Foundation, government, Governmen...</td>\n",
              "      <td>F</td>\n",
              "      <td>['''Tax Freedom Day''' is the first day of the...</td>\n",
              "      <td>[Tax, Freedom, Day, first, day, year, whole, t...</td>\n",
              "    </tr>\n",
              "    <tr>\n",
              "      <th>19812</th>\n",
              "      <td>Tax</td>\n",
              "      <td>[tax, compulsory, financial, charge, type, lev...</td>\n",
              "      <td>[Latin, wikt:en:taxo#Latin, Legal person, tax ...</td>\n",
              "      <td>F</td>\n",
              "      <td>[   A '''tax''' (from the   '' '') is a compul...</td>\n",
              "      <td>[tax, compulsory, financial, charge, other, ty...</td>\n",
              "    </tr>\n",
              "    <tr>\n",
              "      <th>19813</th>\n",
              "      <td>Transhumanism</td>\n",
              "      <td>[transhumanism, abbreviated, international, ad...</td>\n",
              "      <td>[school of thought, human condition, human enh...</td>\n",
              "      <td>F</td>\n",
              "      <td>[      '''Transhumanism''' (abbreviated as '''...</td>\n",
              "      <td>[Transhumanism, H, h, international, transform...</td>\n",
              "    </tr>\n",
              "    <tr>\n",
              "      <th>19814</th>\n",
              "      <td>TARDIS</td>\n",
              "      <td>[genre, type, uses, travels, time, space, trai...</td>\n",
              "      <td>[Anthony Coburn, Science fiction, Time travel,...</td>\n",
              "      <td>F</td>\n",
              "      <td>[      | episode_creator =   | genre          ...</td>\n",
              "      <td>[episodecreator, genre, type, Travels, time, s...</td>\n",
              "    </tr>\n",
              "  </tbody>\n",
              "</table>\n",
              "<p>19815 rows × 6 columns</p>\n",
              "</div>"
            ],
            "text/plain": [
              "                                title  ...                                             tokens\n",
              "0                 AccessibleComputing  ...                                                 []\n",
              "1                           Anarchism  ...  [Anarchism, unjust, replacement, societies, vo...\n",
              "2                  AfghanistanHistory  ...                                                 []\n",
              "3                AfghanistanGeography  ...                                                 []\n",
              "4                   AfghanistanPeople  ...                                                 []\n",
              "...                               ...  ...                                                ...\n",
              "19810  The Lord of the Rings/One Ring  ...                                                 []\n",
              "19811                 Tax Freedom Day  ...  [Tax, Freedom, Day, first, day, year, whole, t...\n",
              "19812                             Tax  ...  [tax, compulsory, financial, charge, other, ty...\n",
              "19813                   Transhumanism  ...  [Transhumanism, H, h, international, transform...\n",
              "19814                          TARDIS  ...  [episodecreator, genre, type, Travels, time, s...\n",
              "\n",
              "[19815 rows x 6 columns]"
            ]
          },
          "metadata": {
            "tags": []
          },
          "execution_count": 19
        }
      ]
    },
    {
      "cell_type": "code",
      "metadata": {
        "id": "JRaWpd43dtLY",
        "colab_type": "code",
        "colab": {}
      },
      "source": [
        "def nltk_stopwords():\n",
        "    return set(nltk.corpus.stopwords.words('english'))\n",
        "\n",
        "def prep_corpus(docs, additional_stopwords=set(), no_below=5, no_above=0.5):\n",
        "  print('Building dictionary...')\n",
        "  dictionary = Dictionary(docs)\n",
        "  stopwords = nltk_stopwords().union(additional_stopwords)\n",
        "  stopword_ids = map(dictionary.token2id.get, stopwords)\n",
        "  dictionary.filter_tokens(stopword_ids)\n",
        "  dictionary.compactify()\n",
        "  dictionary.filter_extremes(no_below=no_below, no_above=no_above, keep_n=None)\n",
        "  dictionary.compactify()\n",
        "\n",
        "  print('Building corpus...')\n",
        "  corpus = [dictionary.doc2bow(doc) for doc in docs]\n",
        "\n",
        "  return dictionary, corpus"
      ],
      "execution_count": 0,
      "outputs": []
    },
    {
      "cell_type": "code",
      "metadata": {
        "id": "cJtvf7NQdtLg",
        "colab_type": "code",
        "colab": {}
      },
      "source": [
        "def model_all():\n",
        "    dictionary, corpus = prep_corpus(df_text['tokens'])\n",
        "    MmCorpus.serialize('wiki_articles.mm', corpus)\n",
        "    dictionary.save('wiki_articles.dict')\n",
        "    lda = models.ldamodel.LdaModel(corpus=corpus, id2word=dictionary, num_topics=5, passes=100)\n",
        "    lda.save('anarchism.model')\n",
        "    lda.show_topics(formatted=False)"
      ],
      "execution_count": 0,
      "outputs": []
    },
    {
      "cell_type": "code",
      "metadata": {
        "id": "DB3nJQOxdtLq",
        "colab_type": "code",
        "colab": {}
      },
      "source": [
        "def model_single():\n",
        "    single_topic_list = []\n",
        "    for i in df_text['tokens']:\n",
        "        dictionary, corpus = prep_corpus(df_text['tokens'])\n",
        "        MmCorpus.serialize('wiki_articles.mm', corpus)\n",
        "        dictionary.save('wiki_articles.dict')\n",
        "        lda = models.ldamodel.LdaModel(corpus=corpus, id2word=dictionary, num_topics=3, passes=50)\n",
        "        lda.save('anarchism.model')\n",
        "        single_topic_list.append(lda.show_topics(formatted=False))\n"
      ],
      "execution_count": 0,
      "outputs": []
    },
    {
      "cell_type": "code",
      "metadata": {
        "id": "bbWjsNDfdtLy",
        "colab_type": "code",
        "colab": {
          "base_uri": "https://localhost:8080/",
          "height": 245
        },
        "outputId": "ab6ee028-1539-4cdb-f685-acca0efacbc9"
      },
      "source": [
        "model_single()\n",
        "print(single_topic_list)"
      ],
      "execution_count": 0,
      "outputs": [
        {
          "output_type": "stream",
          "text": [
            "Building dictionary...\n",
            "Building corpus...\n"
          ],
          "name": "stdout"
        },
        {
          "output_type": "stream",
          "text": [
            "/usr/local/lib/python3.6/dist-packages/smart_open/smart_open_lib.py:402: UserWarning: This function is deprecated, use smart_open.open instead. See the migration notes for details: https://github.com/RaRe-Technologies/smart_open/blob/master/README.rst#migrating-to-the-new-open-function\n",
            "  'See the migration notes for details: %s' % _MIGRATION_NOTES_URL\n"
          ],
          "name": "stderr"
        },
        {
          "output_type": "stream",
          "text": [
            "Building dictionary...\n",
            "Building corpus...\n",
            "Building dictionary...\n",
            "Building corpus...\n",
            "Building dictionary...\n",
            "Building corpus...\n",
            "Building dictionary...\n",
            "Building corpus...\n"
          ],
          "name": "stdout"
        }
      ]
    },
    {
      "cell_type": "code",
      "metadata": {
        "id": "MJjFUzp6dtL5",
        "colab_type": "code",
        "colab": {}
      },
      "source": [
        "# MmCorpus.serialize('wiki_articles.mm', corpus)\n",
        "# dictionary.save('wiki_articles.dict')"
      ],
      "execution_count": 0,
      "outputs": []
    },
    {
      "cell_type": "code",
      "metadata": {
        "id": "y_-6pCp8dtL_",
        "colab_type": "code",
        "colab": {}
      },
      "source": [
        "# %%time\n",
        "# lda = models.ldamodel.LdaModel(corpus=corpus, id2word=dictionary, num_topics=5, passes=100)\n",
        "                                      \n",
        "# lda.save('anarchism.model')"
      ],
      "execution_count": 0,
      "outputs": []
    },
    {
      "cell_type": "code",
      "metadata": {
        "id": "FA4fY6g4dtME",
        "colab_type": "code",
        "colab": {}
      },
      "source": [
        "# lda.show_topics(formatted=False)\n",
        "# print(\"\")"
      ],
      "execution_count": 0,
      "outputs": []
    },
    {
      "cell_type": "code",
      "metadata": {
        "id": "ZVhGQIZudtMK",
        "colab_type": "code",
        "colab": {}
      },
      "source": [
        ""
      ],
      "execution_count": 0,
      "outputs": []
    }
  ]
}